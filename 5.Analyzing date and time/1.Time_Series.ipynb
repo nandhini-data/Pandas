{
 "cells": [
  {
   "cell_type": "markdown",
   "id": "c4f04d23",
   "metadata": {},
   "source": [
    "# <center>Time Series</center>\n",
    "\n",
    "**Time Series** in pandas which leverage the datetime data type to extract date components,group by dates and perform calculation like moving average\n"
   ]
  },
  {
   "cell_type": "markdown",
   "id": "f45c5bab",
   "metadata": {},
   "source": [
    "## The datetime datatype"
   ]
  },
  {
   "cell_type": "code",
   "execution_count": 3,
   "id": "25ad187a",
   "metadata": {},
   "outputs": [
    {
     "data": {
      "text/plain": [
       "datetime.datetime(2025, 3, 13, 17, 42, 35, 817590)"
      ]
     },
     "execution_count": 3,
     "metadata": {},
     "output_type": "execute_result"
    }
   ],
   "source": [
    "from datetime import datetime\n",
    "now =datetime.now()\n",
    "now"
   ]
  },
  {
   "cell_type": "code",
   "execution_count": 4,
   "id": "1448eaf3",
   "metadata": {},
   "outputs": [
    {
     "data": {
      "text/plain": [
       "datetime.datetime"
      ]
     },
     "execution_count": 4,
     "metadata": {},
     "output_type": "execute_result"
    }
   ],
   "source": [
    "type(now)"
   ]
  },
  {
   "cell_type": "code",
   "execution_count": null,
   "id": "c0894aee",
   "metadata": {},
   "outputs": [],
   "source": []
  }
 ],
 "metadata": {
  "kernelspec": {
   "display_name": "Python 3 (ipykernel)",
   "language": "python",
   "name": "python3"
  },
  "language_info": {
   "codemirror_mode": {
    "name": "ipython",
    "version": 3
   },
   "file_extension": ".py",
   "mimetype": "text/x-python",
   "name": "python",
   "nbconvert_exporter": "python",
   "pygments_lexer": "ipython3",
   "version": "3.10.9"
  }
 },
 "nbformat": 4,
 "nbformat_minor": 5
}
