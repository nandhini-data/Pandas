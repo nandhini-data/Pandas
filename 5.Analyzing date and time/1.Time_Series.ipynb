{
 "cells": [
  {
   "cell_type": "markdown",
   "id": "c4f04d23",
   "metadata": {},
   "source": [
    "# <center>Time Series</center>\n",
    "\n",
    "**Time Series** in pandas which leverage the datetime data type to extract date components,group by dates and perform calculation like moving average\n"
   ]
  },
  {
   "cell_type": "markdown",
   "id": "f45c5bab",
   "metadata": {},
   "source": [
    "## The datetime datatype"
   ]
  },
  {
   "cell_type": "code",
   "execution_count": 1,
   "id": "25ad187a",
   "metadata": {},
   "outputs": [
    {
     "data": {
      "text/plain": [
       "datetime.datetime(2025, 3, 19, 20, 25, 48, 968517)"
      ]
     },
     "execution_count": 1,
     "metadata": {},
     "output_type": "execute_result"
    }
   ],
   "source": [
    "from datetime import datetime\n",
    "now =datetime.now()\n",
    "now"
   ]
  },
  {
   "cell_type": "code",
   "execution_count": 2,
   "id": "1448eaf3",
   "metadata": {},
   "outputs": [
    {
     "data": {
      "text/plain": [
       "datetime.datetime"
      ]
     },
     "execution_count": 2,
     "metadata": {},
     "output_type": "execute_result"
    }
   ],
   "source": [
    "type(now)"
   ]
  },
  {
   "cell_type": "code",
   "execution_count": 3,
   "id": "c0894aee",
   "metadata": {},
   "outputs": [],
   "source": [
    "import pandas as pd\n",
    "import numpy as np"
   ]
  },
  {
   "cell_type": "code",
   "execution_count": 11,
   "id": "fcb8aca1",
   "metadata": {},
   "outputs": [],
   "source": [
    "dates = pd.read_csv(\"retail_2016_2017.csv\")"
   ]
  },
  {
   "cell_type": "code",
   "execution_count": 19,
   "id": "6bdd8764",
   "metadata": {},
   "outputs": [],
   "source": [
    "date_table = dates[\"date\"]"
   ]
  },
  {
   "cell_type": "code",
   "execution_count": 23,
   "id": "de2c5ac7",
   "metadata": {},
   "outputs": [],
   "source": [
    "date_df = date_table.to_frame()"
   ]
  },
  {
   "cell_type": "code",
   "execution_count": 24,
   "id": "fba1484f",
   "metadata": {},
   "outputs": [
    {
     "data": {
      "text/html": [
       "<div>\n",
       "<style scoped>\n",
       "    .dataframe tbody tr th:only-of-type {\n",
       "        vertical-align: middle;\n",
       "    }\n",
       "\n",
       "    .dataframe tbody tr th {\n",
       "        vertical-align: top;\n",
       "    }\n",
       "\n",
       "    .dataframe thead th {\n",
       "        text-align: right;\n",
       "    }\n",
       "</style>\n",
       "<table border=\"1\" class=\"dataframe\">\n",
       "  <thead>\n",
       "    <tr style=\"text-align: right;\">\n",
       "      <th></th>\n",
       "      <th>date</th>\n",
       "    </tr>\n",
       "  </thead>\n",
       "  <tbody>\n",
       "    <tr>\n",
       "      <th>0</th>\n",
       "      <td>2016-01-01</td>\n",
       "    </tr>\n",
       "    <tr>\n",
       "      <th>1</th>\n",
       "      <td>2016-01-01</td>\n",
       "    </tr>\n",
       "    <tr>\n",
       "      <th>2</th>\n",
       "      <td>2016-01-01</td>\n",
       "    </tr>\n",
       "    <tr>\n",
       "      <th>3</th>\n",
       "      <td>2016-01-01</td>\n",
       "    </tr>\n",
       "    <tr>\n",
       "      <th>4</th>\n",
       "      <td>2016-01-01</td>\n",
       "    </tr>\n",
       "    <tr>\n",
       "      <th>...</th>\n",
       "      <td>...</td>\n",
       "    </tr>\n",
       "    <tr>\n",
       "      <th>1054939</th>\n",
       "      <td>2017-08-15</td>\n",
       "    </tr>\n",
       "    <tr>\n",
       "      <th>1054940</th>\n",
       "      <td>2017-08-15</td>\n",
       "    </tr>\n",
       "    <tr>\n",
       "      <th>1054941</th>\n",
       "      <td>2017-08-15</td>\n",
       "    </tr>\n",
       "    <tr>\n",
       "      <th>1054942</th>\n",
       "      <td>2017-08-15</td>\n",
       "    </tr>\n",
       "    <tr>\n",
       "      <th>1054943</th>\n",
       "      <td>2017-08-15</td>\n",
       "    </tr>\n",
       "  </tbody>\n",
       "</table>\n",
       "<p>1054944 rows × 1 columns</p>\n",
       "</div>"
      ],
      "text/plain": [
       "               date\n",
       "0        2016-01-01\n",
       "1        2016-01-01\n",
       "2        2016-01-01\n",
       "3        2016-01-01\n",
       "4        2016-01-01\n",
       "...             ...\n",
       "1054939  2017-08-15\n",
       "1054940  2017-08-15\n",
       "1054941  2017-08-15\n",
       "1054942  2017-08-15\n",
       "1054943  2017-08-15\n",
       "\n",
       "[1054944 rows x 1 columns]"
      ]
     },
     "execution_count": 24,
     "metadata": {},
     "output_type": "execute_result"
    }
   ],
   "source": [
    "date_df"
   ]
  },
  {
   "cell_type": "code",
   "execution_count": null,
   "id": "350f9e07",
   "metadata": {},
   "outputs": [],
   "source": []
  }
 ],
 "metadata": {
  "kernelspec": {
   "display_name": "Python 3 (ipykernel)",
   "language": "python",
   "name": "python3"
  },
  "language_info": {
   "codemirror_mode": {
    "name": "ipython",
    "version": 3
   },
   "file_extension": ".py",
   "mimetype": "text/x-python",
   "name": "python",
   "nbconvert_exporter": "python",
   "pygments_lexer": "ipython3",
   "version": "3.10.9"
  }
 },
 "nbformat": 4,
 "nbformat_minor": 5
}
