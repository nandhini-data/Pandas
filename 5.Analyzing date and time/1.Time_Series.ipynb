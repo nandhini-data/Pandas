{
 "cells": [
  {
   "cell_type": "markdown",
   "id": "c4f04d23",
   "metadata": {},
   "source": [
    "# <center>Time Series</center>\n",
    "\n",
    "**Time Series** in pandas which leverage the datetime data type to extract date components,group by dates and perform calculation like moving average\n"
   ]
  },
  {
   "cell_type": "markdown",
   "id": "f45c5bab",
   "metadata": {},
   "source": [
    "## The datetime datatype"
   ]
  },
  {
   "cell_type": "code",
   "execution_count": 1,
   "id": "25ad187a",
   "metadata": {},
   "outputs": [
    {
     "data": {
      "text/plain": [
       "datetime.datetime(2025, 3, 20, 15, 14, 51, 170722)"
      ]
     },
     "execution_count": 1,
     "metadata": {},
     "output_type": "execute_result"
    }
   ],
   "source": [
    "from datetime import datetime\n",
    "now =datetime.now()\n",
    "now"
   ]
  },
  {
   "cell_type": "code",
   "execution_count": 2,
   "id": "1448eaf3",
   "metadata": {},
   "outputs": [
    {
     "data": {
      "text/plain": [
       "datetime.datetime"
      ]
     },
     "execution_count": 2,
     "metadata": {},
     "output_type": "execute_result"
    }
   ],
   "source": [
    "type(now)"
   ]
  },
  {
   "cell_type": "code",
   "execution_count": 3,
   "id": "c0894aee",
   "metadata": {},
   "outputs": [],
   "source": [
    "import pandas as pd\n",
    "import numpy as np"
   ]
  },
  {
   "cell_type": "code",
   "execution_count": 4,
   "id": "fcb8aca1",
   "metadata": {},
   "outputs": [],
   "source": [
    "dates = pd.read_csv(\"retail_2016_2017.csv\")"
   ]
  },
  {
   "cell_type": "code",
   "execution_count": 26,
   "id": "46b07188",
   "metadata": {},
   "outputs": [
    {
     "data": {
      "text/html": [
       "<div>\n",
       "<style scoped>\n",
       "    .dataframe tbody tr th:only-of-type {\n",
       "        vertical-align: middle;\n",
       "    }\n",
       "\n",
       "    .dataframe tbody tr th {\n",
       "        vertical-align: top;\n",
       "    }\n",
       "\n",
       "    .dataframe thead th {\n",
       "        text-align: right;\n",
       "    }\n",
       "</style>\n",
       "<table border=\"1\" class=\"dataframe\">\n",
       "  <thead>\n",
       "    <tr style=\"text-align: right;\">\n",
       "      <th></th>\n",
       "      <th>id</th>\n",
       "      <th>date</th>\n",
       "      <th>store_nbr</th>\n",
       "      <th>family</th>\n",
       "      <th>sales</th>\n",
       "      <th>onpromotion</th>\n",
       "    </tr>\n",
       "  </thead>\n",
       "  <tbody>\n",
       "    <tr>\n",
       "      <th>0</th>\n",
       "      <td>1945944</td>\n",
       "      <td>2016-01-01</td>\n",
       "      <td>1</td>\n",
       "      <td>AUTOMOTIVE</td>\n",
       "      <td>0.000</td>\n",
       "      <td>0</td>\n",
       "    </tr>\n",
       "    <tr>\n",
       "      <th>1</th>\n",
       "      <td>1945945</td>\n",
       "      <td>2016-01-01</td>\n",
       "      <td>1</td>\n",
       "      <td>BABY CARE</td>\n",
       "      <td>0.000</td>\n",
       "      <td>0</td>\n",
       "    </tr>\n",
       "    <tr>\n",
       "      <th>2</th>\n",
       "      <td>1945946</td>\n",
       "      <td>2016-01-01</td>\n",
       "      <td>1</td>\n",
       "      <td>BEAUTY</td>\n",
       "      <td>0.000</td>\n",
       "      <td>0</td>\n",
       "    </tr>\n",
       "    <tr>\n",
       "      <th>3</th>\n",
       "      <td>1945947</td>\n",
       "      <td>2016-01-01</td>\n",
       "      <td>1</td>\n",
       "      <td>BEVERAGES</td>\n",
       "      <td>0.000</td>\n",
       "      <td>0</td>\n",
       "    </tr>\n",
       "    <tr>\n",
       "      <th>4</th>\n",
       "      <td>1945948</td>\n",
       "      <td>2016-01-01</td>\n",
       "      <td>1</td>\n",
       "      <td>BOOKS</td>\n",
       "      <td>0.000</td>\n",
       "      <td>0</td>\n",
       "    </tr>\n",
       "    <tr>\n",
       "      <th>...</th>\n",
       "      <td>...</td>\n",
       "      <td>...</td>\n",
       "      <td>...</td>\n",
       "      <td>...</td>\n",
       "      <td>...</td>\n",
       "      <td>...</td>\n",
       "    </tr>\n",
       "    <tr>\n",
       "      <th>1054939</th>\n",
       "      <td>3000883</td>\n",
       "      <td>2017-08-15</td>\n",
       "      <td>9</td>\n",
       "      <td>POULTRY</td>\n",
       "      <td>438.133</td>\n",
       "      <td>0</td>\n",
       "    </tr>\n",
       "    <tr>\n",
       "      <th>1054940</th>\n",
       "      <td>3000884</td>\n",
       "      <td>2017-08-15</td>\n",
       "      <td>9</td>\n",
       "      <td>PREPARED FOODS</td>\n",
       "      <td>154.553</td>\n",
       "      <td>1</td>\n",
       "    </tr>\n",
       "    <tr>\n",
       "      <th>1054941</th>\n",
       "      <td>3000885</td>\n",
       "      <td>2017-08-15</td>\n",
       "      <td>9</td>\n",
       "      <td>PRODUCE</td>\n",
       "      <td>2419.729</td>\n",
       "      <td>148</td>\n",
       "    </tr>\n",
       "    <tr>\n",
       "      <th>1054942</th>\n",
       "      <td>3000886</td>\n",
       "      <td>2017-08-15</td>\n",
       "      <td>9</td>\n",
       "      <td>SCHOOL AND OFFICE SUPPLIES</td>\n",
       "      <td>121.000</td>\n",
       "      <td>8</td>\n",
       "    </tr>\n",
       "    <tr>\n",
       "      <th>1054943</th>\n",
       "      <td>3000887</td>\n",
       "      <td>2017-08-15</td>\n",
       "      <td>9</td>\n",
       "      <td>SEAFOOD</td>\n",
       "      <td>16.000</td>\n",
       "      <td>0</td>\n",
       "    </tr>\n",
       "  </tbody>\n",
       "</table>\n",
       "<p>1054944 rows × 6 columns</p>\n",
       "</div>"
      ],
      "text/plain": [
       "              id        date  store_nbr                      family     sales  \\\n",
       "0        1945944  2016-01-01          1                  AUTOMOTIVE     0.000   \n",
       "1        1945945  2016-01-01          1                   BABY CARE     0.000   \n",
       "2        1945946  2016-01-01          1                      BEAUTY     0.000   \n",
       "3        1945947  2016-01-01          1                   BEVERAGES     0.000   \n",
       "4        1945948  2016-01-01          1                       BOOKS     0.000   \n",
       "...          ...         ...        ...                         ...       ...   \n",
       "1054939  3000883  2017-08-15          9                     POULTRY   438.133   \n",
       "1054940  3000884  2017-08-15          9              PREPARED FOODS   154.553   \n",
       "1054941  3000885  2017-08-15          9                     PRODUCE  2419.729   \n",
       "1054942  3000886  2017-08-15          9  SCHOOL AND OFFICE SUPPLIES   121.000   \n",
       "1054943  3000887  2017-08-15          9                     SEAFOOD    16.000   \n",
       "\n",
       "         onpromotion  \n",
       "0                  0  \n",
       "1                  0  \n",
       "2                  0  \n",
       "3                  0  \n",
       "4                  0  \n",
       "...              ...  \n",
       "1054939            0  \n",
       "1054940            1  \n",
       "1054941          148  \n",
       "1054942            8  \n",
       "1054943            0  \n",
       "\n",
       "[1054944 rows x 6 columns]"
      ]
     },
     "execution_count": 26,
     "metadata": {},
     "output_type": "execute_result"
    }
   ],
   "source": [
    "dates"
   ]
  },
  {
   "cell_type": "code",
   "execution_count": 28,
   "id": "6bdd8764",
   "metadata": {},
   "outputs": [],
   "source": [
    "date_table = dates[[\"date\",\"sales\"]]"
   ]
  },
  {
   "cell_type": "code",
   "execution_count": 30,
   "id": "de2c5ac7",
   "metadata": {},
   "outputs": [
    {
     "data": {
      "text/html": [
       "<div>\n",
       "<style scoped>\n",
       "    .dataframe tbody tr th:only-of-type {\n",
       "        vertical-align: middle;\n",
       "    }\n",
       "\n",
       "    .dataframe tbody tr th {\n",
       "        vertical-align: top;\n",
       "    }\n",
       "\n",
       "    .dataframe thead th {\n",
       "        text-align: right;\n",
       "    }\n",
       "</style>\n",
       "<table border=\"1\" class=\"dataframe\">\n",
       "  <thead>\n",
       "    <tr style=\"text-align: right;\">\n",
       "      <th></th>\n",
       "      <th>date</th>\n",
       "      <th>sales</th>\n",
       "    </tr>\n",
       "  </thead>\n",
       "  <tbody>\n",
       "    <tr>\n",
       "      <th>0</th>\n",
       "      <td>2016-01-01</td>\n",
       "      <td>0.000</td>\n",
       "    </tr>\n",
       "    <tr>\n",
       "      <th>1</th>\n",
       "      <td>2016-01-01</td>\n",
       "      <td>0.000</td>\n",
       "    </tr>\n",
       "    <tr>\n",
       "      <th>2</th>\n",
       "      <td>2016-01-01</td>\n",
       "      <td>0.000</td>\n",
       "    </tr>\n",
       "    <tr>\n",
       "      <th>3</th>\n",
       "      <td>2016-01-01</td>\n",
       "      <td>0.000</td>\n",
       "    </tr>\n",
       "    <tr>\n",
       "      <th>4</th>\n",
       "      <td>2016-01-01</td>\n",
       "      <td>0.000</td>\n",
       "    </tr>\n",
       "    <tr>\n",
       "      <th>...</th>\n",
       "      <td>...</td>\n",
       "      <td>...</td>\n",
       "    </tr>\n",
       "    <tr>\n",
       "      <th>1054939</th>\n",
       "      <td>2017-08-15</td>\n",
       "      <td>438.133</td>\n",
       "    </tr>\n",
       "    <tr>\n",
       "      <th>1054940</th>\n",
       "      <td>2017-08-15</td>\n",
       "      <td>154.553</td>\n",
       "    </tr>\n",
       "    <tr>\n",
       "      <th>1054941</th>\n",
       "      <td>2017-08-15</td>\n",
       "      <td>2419.729</td>\n",
       "    </tr>\n",
       "    <tr>\n",
       "      <th>1054942</th>\n",
       "      <td>2017-08-15</td>\n",
       "      <td>121.000</td>\n",
       "    </tr>\n",
       "    <tr>\n",
       "      <th>1054943</th>\n",
       "      <td>2017-08-15</td>\n",
       "      <td>16.000</td>\n",
       "    </tr>\n",
       "  </tbody>\n",
       "</table>\n",
       "<p>1054944 rows × 2 columns</p>\n",
       "</div>"
      ],
      "text/plain": [
       "               date     sales\n",
       "0        2016-01-01     0.000\n",
       "1        2016-01-01     0.000\n",
       "2        2016-01-01     0.000\n",
       "3        2016-01-01     0.000\n",
       "4        2016-01-01     0.000\n",
       "...             ...       ...\n",
       "1054939  2017-08-15   438.133\n",
       "1054940  2017-08-15   154.553\n",
       "1054941  2017-08-15  2419.729\n",
       "1054942  2017-08-15   121.000\n",
       "1054943  2017-08-15    16.000\n",
       "\n",
       "[1054944 rows x 2 columns]"
      ]
     },
     "execution_count": 30,
     "metadata": {},
     "output_type": "execute_result"
    }
   ],
   "source": [
    "date_table"
   ]
  },
  {
   "cell_type": "code",
   "execution_count": 31,
   "id": "350f9e07",
   "metadata": {},
   "outputs": [
    {
     "name": "stdout",
     "output_type": "stream",
     "text": [
      "<class 'pandas.core.frame.DataFrame'>\n",
      "RangeIndex: 1054944 entries, 0 to 1054943\n",
      "Data columns (total 2 columns):\n",
      " #   Column  Non-Null Count    Dtype  \n",
      "---  ------  --------------    -----  \n",
      " 0   date    1054944 non-null  object \n",
      " 1   sales   1054944 non-null  float64\n",
      "dtypes: float64(1), object(1)\n",
      "memory usage: 16.1+ MB\n"
     ]
    }
   ],
   "source": [
    "date_table.info()"
   ]
  },
  {
   "cell_type": "code",
   "execution_count": 21,
   "id": "fad2db5a",
   "metadata": {},
   "outputs": [
    {
     "data": {
      "text/plain": [
       "527472.0"
      ]
     },
     "execution_count": 21,
     "metadata": {},
     "output_type": "execute_result"
    }
   ],
   "source": [
    "half = 1054944/2\n",
    "half"
   ]
  },
  {
   "cell_type": "code",
   "execution_count": 34,
   "id": "e0892153",
   "metadata": {},
   "outputs": [],
   "source": [
    "#to understand the concept of time series we are splitting the dataframe into two \n",
    "#frames and fill some two null values in the rows\n",
    "\n",
    "first_sales = date_table.iloc[0:527472]\n"
   ]
  },
  {
   "cell_type": "code",
   "execution_count": 35,
   "id": "55301705",
   "metadata": {},
   "outputs": [],
   "source": [
    "second_sales = date_table.iloc[527472:1054944]"
   ]
  },
  {
   "cell_type": "code",
   "execution_count": 36,
   "id": "16ecc358",
   "metadata": {},
   "outputs": [
    {
     "data": {
      "text/html": [
       "<div>\n",
       "<style scoped>\n",
       "    .dataframe tbody tr th:only-of-type {\n",
       "        vertical-align: middle;\n",
       "    }\n",
       "\n",
       "    .dataframe tbody tr th {\n",
       "        vertical-align: top;\n",
       "    }\n",
       "\n",
       "    .dataframe thead th {\n",
       "        text-align: right;\n",
       "    }\n",
       "</style>\n",
       "<table border=\"1\" class=\"dataframe\">\n",
       "  <thead>\n",
       "    <tr style=\"text-align: right;\">\n",
       "      <th></th>\n",
       "      <th>date</th>\n",
       "      <th>sales</th>\n",
       "    </tr>\n",
       "  </thead>\n",
       "  <tbody>\n",
       "    <tr>\n",
       "      <th>0</th>\n",
       "      <td>2016-01-01</td>\n",
       "      <td>0.0</td>\n",
       "    </tr>\n",
       "    <tr>\n",
       "      <th>1</th>\n",
       "      <td>2016-01-01</td>\n",
       "      <td>0.0</td>\n",
       "    </tr>\n",
       "    <tr>\n",
       "      <th>2</th>\n",
       "      <td>2016-01-01</td>\n",
       "      <td>0.0</td>\n",
       "    </tr>\n",
       "    <tr>\n",
       "      <th>3</th>\n",
       "      <td>2016-01-01</td>\n",
       "      <td>0.0</td>\n",
       "    </tr>\n",
       "    <tr>\n",
       "      <th>4</th>\n",
       "      <td>2016-01-01</td>\n",
       "      <td>0.0</td>\n",
       "    </tr>\n",
       "  </tbody>\n",
       "</table>\n",
       "</div>"
      ],
      "text/plain": [
       "         date  sales\n",
       "0  2016-01-01    0.0\n",
       "1  2016-01-01    0.0\n",
       "2  2016-01-01    0.0\n",
       "3  2016-01-01    0.0\n",
       "4  2016-01-01    0.0"
      ]
     },
     "execution_count": 36,
     "metadata": {},
     "output_type": "execute_result"
    }
   ],
   "source": [
    "first_sales.head()"
   ]
  },
  {
   "cell_type": "code",
   "execution_count": 37,
   "id": "0e2422f9",
   "metadata": {},
   "outputs": [
    {
     "data": {
      "text/html": [
       "<div>\n",
       "<style scoped>\n",
       "    .dataframe tbody tr th:only-of-type {\n",
       "        vertical-align: middle;\n",
       "    }\n",
       "\n",
       "    .dataframe tbody tr th {\n",
       "        vertical-align: top;\n",
       "    }\n",
       "\n",
       "    .dataframe thead th {\n",
       "        text-align: right;\n",
       "    }\n",
       "</style>\n",
       "<table border=\"1\" class=\"dataframe\">\n",
       "  <thead>\n",
       "    <tr style=\"text-align: right;\">\n",
       "      <th></th>\n",
       "      <th>date</th>\n",
       "      <th>sales</th>\n",
       "    </tr>\n",
       "  </thead>\n",
       "  <tbody>\n",
       "    <tr>\n",
       "      <th>527472</th>\n",
       "      <td>2016-10-23</td>\n",
       "      <td>0.0</td>\n",
       "    </tr>\n",
       "    <tr>\n",
       "      <th>527473</th>\n",
       "      <td>2016-10-23</td>\n",
       "      <td>0.0</td>\n",
       "    </tr>\n",
       "    <tr>\n",
       "      <th>527474</th>\n",
       "      <td>2016-10-23</td>\n",
       "      <td>3.0</td>\n",
       "    </tr>\n",
       "    <tr>\n",
       "      <th>527475</th>\n",
       "      <td>2016-10-23</td>\n",
       "      <td>1106.0</td>\n",
       "    </tr>\n",
       "    <tr>\n",
       "      <th>527476</th>\n",
       "      <td>2016-10-23</td>\n",
       "      <td>0.0</td>\n",
       "    </tr>\n",
       "  </tbody>\n",
       "</table>\n",
       "</div>"
      ],
      "text/plain": [
       "              date   sales\n",
       "527472  2016-10-23     0.0\n",
       "527473  2016-10-23     0.0\n",
       "527474  2016-10-23     3.0\n",
       "527475  2016-10-23  1106.0\n",
       "527476  2016-10-23     0.0"
      ]
     },
     "execution_count": 37,
     "metadata": {},
     "output_type": "execute_result"
    }
   ],
   "source": [
    "second_sales.head()"
   ]
  },
  {
   "cell_type": "code",
   "execution_count": 41,
   "id": "d991043c",
   "metadata": {},
   "outputs": [
    {
     "name": "stderr",
     "output_type": "stream",
     "text": [
      "C:\\Users\\Nandhini\\AppData\\Local\\Temp\\ipykernel_19532\\2665446747.py:1: SettingWithCopyWarning: \n",
      "A value is trying to be set on a copy of a slice from a DataFrame\n",
      "\n",
      "See the caveats in the documentation: https://pandas.pydata.org/pandas-docs/stable/user_guide/indexing.html#returning-a-view-versus-a-copy\n",
      "  first_sales[\"date\"].iloc[2] =np.nan\n"
     ]
    }
   ],
   "source": [
    "first_sales[\"date\"].iloc[2] =np.nan"
   ]
  },
  {
   "cell_type": "code",
   "execution_count": 44,
   "id": "0edafb1a",
   "metadata": {},
   "outputs": [
    {
     "name": "stdout",
     "output_type": "stream",
     "text": [
      "<class 'pandas.core.frame.DataFrame'>\n",
      "RangeIndex: 527472 entries, 0 to 527471\n",
      "Data columns (total 2 columns):\n",
      " #   Column  Non-Null Count   Dtype  \n",
      "---  ------  --------------   -----  \n",
      " 0   date    527471 non-null  object \n",
      " 1   sales   527472 non-null  float64\n",
      "dtypes: float64(1), object(1)\n",
      "memory usage: 8.0+ MB\n"
     ]
    }
   ],
   "source": [
    "first_sales.info()"
   ]
  },
  {
   "cell_type": "code",
   "execution_count": 43,
   "id": "be8e5b37",
   "metadata": {},
   "outputs": [
    {
     "data": {
      "text/html": [
       "<div>\n",
       "<style scoped>\n",
       "    .dataframe tbody tr th:only-of-type {\n",
       "        vertical-align: middle;\n",
       "    }\n",
       "\n",
       "    .dataframe tbody tr th {\n",
       "        vertical-align: top;\n",
       "    }\n",
       "\n",
       "    .dataframe thead th {\n",
       "        text-align: right;\n",
       "    }\n",
       "</style>\n",
       "<table border=\"1\" class=\"dataframe\">\n",
       "  <thead>\n",
       "    <tr style=\"text-align: right;\">\n",
       "      <th></th>\n",
       "      <th>date</th>\n",
       "      <th>sales</th>\n",
       "    </tr>\n",
       "  </thead>\n",
       "  <tbody>\n",
       "    <tr>\n",
       "      <th>0</th>\n",
       "      <td>2016-01-01</td>\n",
       "      <td>0.000</td>\n",
       "    </tr>\n",
       "    <tr>\n",
       "      <th>1</th>\n",
       "      <td>2016-01-01</td>\n",
       "      <td>0.000</td>\n",
       "    </tr>\n",
       "    <tr>\n",
       "      <th>2</th>\n",
       "      <td>NaN</td>\n",
       "      <td>0.000</td>\n",
       "    </tr>\n",
       "    <tr>\n",
       "      <th>3</th>\n",
       "      <td>2016-01-01</td>\n",
       "      <td>0.000</td>\n",
       "    </tr>\n",
       "    <tr>\n",
       "      <th>4</th>\n",
       "      <td>2016-01-01</td>\n",
       "      <td>0.000</td>\n",
       "    </tr>\n",
       "    <tr>\n",
       "      <th>...</th>\n",
       "      <td>...</td>\n",
       "      <td>...</td>\n",
       "    </tr>\n",
       "    <tr>\n",
       "      <th>527467</th>\n",
       "      <td>2016-10-22</td>\n",
       "      <td>544.287</td>\n",
       "    </tr>\n",
       "    <tr>\n",
       "      <th>527468</th>\n",
       "      <td>2016-10-22</td>\n",
       "      <td>116.352</td>\n",
       "    </tr>\n",
       "    <tr>\n",
       "      <th>527469</th>\n",
       "      <td>2016-10-22</td>\n",
       "      <td>1537.244</td>\n",
       "    </tr>\n",
       "    <tr>\n",
       "      <th>527470</th>\n",
       "      <td>2016-10-22</td>\n",
       "      <td>1.000</td>\n",
       "    </tr>\n",
       "    <tr>\n",
       "      <th>527471</th>\n",
       "      <td>2016-10-22</td>\n",
       "      <td>6.000</td>\n",
       "    </tr>\n",
       "  </tbody>\n",
       "</table>\n",
       "<p>527472 rows × 2 columns</p>\n",
       "</div>"
      ],
      "text/plain": [
       "              date     sales\n",
       "0       2016-01-01     0.000\n",
       "1       2016-01-01     0.000\n",
       "2              NaN     0.000\n",
       "3       2016-01-01     0.000\n",
       "4       2016-01-01     0.000\n",
       "...            ...       ...\n",
       "527467  2016-10-22   544.287\n",
       "527468  2016-10-22   116.352\n",
       "527469  2016-10-22  1537.244\n",
       "527470  2016-10-22     1.000\n",
       "527471  2016-10-22     6.000\n",
       "\n",
       "[527472 rows x 2 columns]"
      ]
     },
     "execution_count": 43,
     "metadata": {},
     "output_type": "execute_result"
    }
   ],
   "source": [
    "first_sales"
   ]
  },
  {
   "cell_type": "code",
   "execution_count": 45,
   "id": "e0114c97",
   "metadata": {},
   "outputs": [
    {
     "data": {
      "text/html": [
       "<div>\n",
       "<style scoped>\n",
       "    .dataframe tbody tr th:only-of-type {\n",
       "        vertical-align: middle;\n",
       "    }\n",
       "\n",
       "    .dataframe tbody tr th {\n",
       "        vertical-align: top;\n",
       "    }\n",
       "\n",
       "    .dataframe thead th {\n",
       "        text-align: right;\n",
       "    }\n",
       "</style>\n",
       "<table border=\"1\" class=\"dataframe\">\n",
       "  <thead>\n",
       "    <tr style=\"text-align: right;\">\n",
       "      <th></th>\n",
       "      <th>date</th>\n",
       "      <th>sales</th>\n",
       "    </tr>\n",
       "  </thead>\n",
       "  <tbody>\n",
       "    <tr>\n",
       "      <th>0</th>\n",
       "      <td>2016-01-01</td>\n",
       "      <td>0.000</td>\n",
       "    </tr>\n",
       "    <tr>\n",
       "      <th>1</th>\n",
       "      <td>2016-01-01</td>\n",
       "      <td>0.000</td>\n",
       "    </tr>\n",
       "    <tr>\n",
       "      <th>2</th>\n",
       "      <td>NaT</td>\n",
       "      <td>0.000</td>\n",
       "    </tr>\n",
       "    <tr>\n",
       "      <th>3</th>\n",
       "      <td>2016-01-01</td>\n",
       "      <td>0.000</td>\n",
       "    </tr>\n",
       "    <tr>\n",
       "      <th>4</th>\n",
       "      <td>2016-01-01</td>\n",
       "      <td>0.000</td>\n",
       "    </tr>\n",
       "    <tr>\n",
       "      <th>...</th>\n",
       "      <td>...</td>\n",
       "      <td>...</td>\n",
       "    </tr>\n",
       "    <tr>\n",
       "      <th>527467</th>\n",
       "      <td>2016-10-22</td>\n",
       "      <td>544.287</td>\n",
       "    </tr>\n",
       "    <tr>\n",
       "      <th>527468</th>\n",
       "      <td>2016-10-22</td>\n",
       "      <td>116.352</td>\n",
       "    </tr>\n",
       "    <tr>\n",
       "      <th>527469</th>\n",
       "      <td>2016-10-22</td>\n",
       "      <td>1537.244</td>\n",
       "    </tr>\n",
       "    <tr>\n",
       "      <th>527470</th>\n",
       "      <td>2016-10-22</td>\n",
       "      <td>1.000</td>\n",
       "    </tr>\n",
       "    <tr>\n",
       "      <th>527471</th>\n",
       "      <td>2016-10-22</td>\n",
       "      <td>6.000</td>\n",
       "    </tr>\n",
       "  </tbody>\n",
       "</table>\n",
       "<p>527472 rows × 2 columns</p>\n",
       "</div>"
      ],
      "text/plain": [
       "             date     sales\n",
       "0      2016-01-01     0.000\n",
       "1      2016-01-01     0.000\n",
       "2             NaT     0.000\n",
       "3      2016-01-01     0.000\n",
       "4      2016-01-01     0.000\n",
       "...           ...       ...\n",
       "527467 2016-10-22   544.287\n",
       "527468 2016-10-22   116.352\n",
       "527469 2016-10-22  1537.244\n",
       "527470 2016-10-22     1.000\n",
       "527471 2016-10-22     6.000\n",
       "\n",
       "[527472 rows x 2 columns]"
      ]
     },
     "execution_count": 45,
     "metadata": {},
     "output_type": "execute_result"
    }
   ],
   "source": [
    "#first_sales and second_sales dataframe have date column as a object datatype.\n",
    "#to convert the object datatype of date column to datatime datatype \n",
    "#use .to_datetime(),.astype() \n",
    "\n",
    "first_sales.astype({\"date\":\"datetime64\"})"
   ]
  },
  {
   "cell_type": "code",
   "execution_count": 46,
   "id": "9db96c4e",
   "metadata": {},
   "outputs": [
    {
     "name": "stdout",
     "output_type": "stream",
     "text": [
      "<class 'pandas.core.frame.DataFrame'>\n",
      "RangeIndex: 527472 entries, 0 to 527471\n",
      "Data columns (total 2 columns):\n",
      " #   Column  Non-Null Count   Dtype  \n",
      "---  ------  --------------   -----  \n",
      " 0   date    527471 non-null  object \n",
      " 1   sales   527472 non-null  float64\n",
      "dtypes: float64(1), object(1)\n",
      "memory usage: 8.0+ MB\n"
     ]
    }
   ],
   "source": [
    "first_sales.info()"
   ]
  },
  {
   "cell_type": "code",
   "execution_count": 51,
   "id": "03447615",
   "metadata": {},
   "outputs": [
    {
     "data": {
      "text/html": [
       "<div>\n",
       "<style scoped>\n",
       "    .dataframe tbody tr th:only-of-type {\n",
       "        vertical-align: middle;\n",
       "    }\n",
       "\n",
       "    .dataframe tbody tr th {\n",
       "        vertical-align: top;\n",
       "    }\n",
       "\n",
       "    .dataframe thead th {\n",
       "        text-align: right;\n",
       "    }\n",
       "</style>\n",
       "<table border=\"1\" class=\"dataframe\">\n",
       "  <thead>\n",
       "    <tr style=\"text-align: right;\">\n",
       "      <th></th>\n",
       "      <th>date</th>\n",
       "      <th>sales</th>\n",
       "    </tr>\n",
       "  </thead>\n",
       "  <tbody>\n",
       "    <tr>\n",
       "      <th>0</th>\n",
       "      <td>2016-01-01</td>\n",
       "      <td>0.000</td>\n",
       "    </tr>\n",
       "    <tr>\n",
       "      <th>1</th>\n",
       "      <td>2016-01-01</td>\n",
       "      <td>0.000</td>\n",
       "    </tr>\n",
       "    <tr>\n",
       "      <th>2</th>\n",
       "      <td>NaT</td>\n",
       "      <td>0.000</td>\n",
       "    </tr>\n",
       "    <tr>\n",
       "      <th>3</th>\n",
       "      <td>2016-01-01</td>\n",
       "      <td>0.000</td>\n",
       "    </tr>\n",
       "    <tr>\n",
       "      <th>4</th>\n",
       "      <td>2016-01-01</td>\n",
       "      <td>0.000</td>\n",
       "    </tr>\n",
       "    <tr>\n",
       "      <th>...</th>\n",
       "      <td>...</td>\n",
       "      <td>...</td>\n",
       "    </tr>\n",
       "    <tr>\n",
       "      <th>527467</th>\n",
       "      <td>2016-10-22</td>\n",
       "      <td>544.287</td>\n",
       "    </tr>\n",
       "    <tr>\n",
       "      <th>527468</th>\n",
       "      <td>2016-10-22</td>\n",
       "      <td>116.352</td>\n",
       "    </tr>\n",
       "    <tr>\n",
       "      <th>527469</th>\n",
       "      <td>2016-10-22</td>\n",
       "      <td>1537.244</td>\n",
       "    </tr>\n",
       "    <tr>\n",
       "      <th>527470</th>\n",
       "      <td>2016-10-22</td>\n",
       "      <td>1.000</td>\n",
       "    </tr>\n",
       "    <tr>\n",
       "      <th>527471</th>\n",
       "      <td>2016-10-22</td>\n",
       "      <td>6.000</td>\n",
       "    </tr>\n",
       "  </tbody>\n",
       "</table>\n",
       "<p>527472 rows × 2 columns</p>\n",
       "</div>"
      ],
      "text/plain": [
       "             date     sales\n",
       "0      2016-01-01     0.000\n",
       "1      2016-01-01     0.000\n",
       "2             NaT     0.000\n",
       "3      2016-01-01     0.000\n",
       "4      2016-01-01     0.000\n",
       "...           ...       ...\n",
       "527467 2016-10-22   544.287\n",
       "527468 2016-10-22   116.352\n",
       "527469 2016-10-22  1537.244\n",
       "527470 2016-10-22     1.000\n",
       "527471 2016-10-22     6.000\n",
       "\n",
       "[527472 rows x 2 columns]"
      ]
     },
     "execution_count": 51,
     "metadata": {},
     "output_type": "execute_result"
    }
   ],
   "source": [
    "first_sales.astype({\"date\":\"datetime64\"},errors=\"ignore\")"
   ]
  },
  {
   "cell_type": "code",
   "execution_count": 49,
   "id": "fb368843",
   "metadata": {},
   "outputs": [
    {
     "data": {
      "text/plain": [
       "date      object\n",
       "sales    float64\n",
       "dtype: object"
      ]
     },
     "execution_count": 49,
     "metadata": {},
     "output_type": "execute_result"
    }
   ],
   "source": [
    "first_sales.dtypes"
   ]
  },
  {
   "cell_type": "markdown",
   "id": "e8f516da",
   "metadata": {},
   "source": [
    "### The .to_datetime() function is more flexible option for converting datetimes"
   ]
  },
  {
   "cell_type": "code",
   "execution_count": 52,
   "id": "ac255c6b",
   "metadata": {},
   "outputs": [
    {
     "name": "stderr",
     "output_type": "stream",
     "text": [
      "C:\\Users\\Nandhini\\AppData\\Local\\Temp\\ipykernel_19532\\2963974973.py:1: SettingWithCopyWarning: \n",
      "A value is trying to be set on a copy of a slice from a DataFrame.\n",
      "Try using .loc[row_indexer,col_indexer] = value instead\n",
      "\n",
      "See the caveats in the documentation: https://pandas.pydata.org/pandas-docs/stable/user_guide/indexing.html#returning-a-view-versus-a-copy\n",
      "  first_sales[\"date\"] = pd.to_datetime(first_sales[\"date\"],errors=\"coerce\",infer_datetime_format =True)\n"
     ]
    }
   ],
   "source": [
    "#this will convert the object datatype to datatime datatype even there is a errors\n",
    "first_sales[\"date\"] = pd.to_datetime(first_sales[\"date\"],errors=\"coerce\",infer_datetime_format =True)"
   ]
  },
  {
   "cell_type": "code",
   "execution_count": 54,
   "id": "9f6510de",
   "metadata": {},
   "outputs": [
    {
     "data": {
      "text/plain": [
       "date     datetime64[ns]\n",
       "sales           float64\n",
       "dtype: object"
      ]
     },
     "execution_count": 54,
     "metadata": {},
     "output_type": "execute_result"
    }
   ],
   "source": [
    "first_sales.dtypes"
   ]
  },
  {
   "cell_type": "code",
   "execution_count": 56,
   "id": "3788d77b",
   "metadata": {},
   "outputs": [
    {
     "data": {
      "text/html": [
       "<div>\n",
       "<style scoped>\n",
       "    .dataframe tbody tr th:only-of-type {\n",
       "        vertical-align: middle;\n",
       "    }\n",
       "\n",
       "    .dataframe tbody tr th {\n",
       "        vertical-align: top;\n",
       "    }\n",
       "\n",
       "    .dataframe thead th {\n",
       "        text-align: right;\n",
       "    }\n",
       "</style>\n",
       "<table border=\"1\" class=\"dataframe\">\n",
       "  <thead>\n",
       "    <tr style=\"text-align: right;\">\n",
       "      <th></th>\n",
       "      <th>date</th>\n",
       "      <th>sales</th>\n",
       "    </tr>\n",
       "  </thead>\n",
       "  <tbody>\n",
       "    <tr>\n",
       "      <th>0</th>\n",
       "      <td>2016-01-01</td>\n",
       "      <td>0.0</td>\n",
       "    </tr>\n",
       "    <tr>\n",
       "      <th>1</th>\n",
       "      <td>2016-01-01</td>\n",
       "      <td>0.0</td>\n",
       "    </tr>\n",
       "    <tr>\n",
       "      <th>2</th>\n",
       "      <td>NaT</td>\n",
       "      <td>0.0</td>\n",
       "    </tr>\n",
       "    <tr>\n",
       "      <th>3</th>\n",
       "      <td>2016-01-01</td>\n",
       "      <td>0.0</td>\n",
       "    </tr>\n",
       "    <tr>\n",
       "      <th>4</th>\n",
       "      <td>2016-01-01</td>\n",
       "      <td>0.0</td>\n",
       "    </tr>\n",
       "  </tbody>\n",
       "</table>\n",
       "</div>"
      ],
      "text/plain": [
       "        date  sales\n",
       "0 2016-01-01    0.0\n",
       "1 2016-01-01    0.0\n",
       "2        NaT    0.0\n",
       "3 2016-01-01    0.0\n",
       "4 2016-01-01    0.0"
      ]
     },
     "execution_count": 56,
     "metadata": {},
     "output_type": "execute_result"
    }
   ],
   "source": [
    "first_sales.head() #NaT stands for not a time"
   ]
  },
  {
   "cell_type": "markdown",
   "id": "35ba696d",
   "metadata": {},
   "source": [
    "### Format date and extract date components using datatime codes"
   ]
  },
  {
   "cell_type": "code",
   "execution_count": 57,
   "id": "a29223c4",
   "metadata": {},
   "outputs": [
    {
     "data": {
      "text/plain": [
       "datetime.datetime(2025, 3, 20, 15, 14, 51, 170722)"
      ]
     },
     "execution_count": 57,
     "metadata": {},
     "output_type": "execute_result"
    }
   ],
   "source": [
    "now"
   ]
  },
  {
   "cell_type": "code",
   "execution_count": 58,
   "id": "49ab67f3",
   "metadata": {},
   "outputs": [
    {
     "data": {
      "text/plain": [
       "'March 20,2025'"
      ]
     },
     "execution_count": 58,
     "metadata": {},
     "output_type": "execute_result"
    }
   ],
   "source": [
    "now.strftime(\"%B %d,%Y\") # its a string"
   ]
  },
  {
   "cell_type": "code",
   "execution_count": 63,
   "id": "53a397d1",
   "metadata": {},
   "outputs": [
    {
     "name": "stderr",
     "output_type": "stream",
     "text": [
      "C:\\Users\\Nandhini\\AppData\\Local\\Temp\\ipykernel_19532\\4244722112.py:2: SettingWithCopyWarning: \n",
      "A value is trying to be set on a copy of a slice from a DataFrame\n",
      "\n",
      "See the caveats in the documentation: https://pandas.pydata.org/pandas-docs/stable/user_guide/indexing.html#returning-a-view-versus-a-copy\n",
      "  first_sales[\"sales\"].iloc[2]=0.0\n"
     ]
    }
   ],
   "source": [
    "#the .dt accessor let you use .strftime() on datetime in pandas dataframe\n",
    "first_sales[\"sales\"].iloc[2]=0.0"
   ]
  },
  {
   "cell_type": "code",
   "execution_count": 65,
   "id": "db7e80a3",
   "metadata": {},
   "outputs": [
    {
     "name": "stdout",
     "output_type": "stream",
     "text": [
      "<class 'pandas.core.frame.DataFrame'>\n",
      "RangeIndex: 527472 entries, 0 to 527471\n",
      "Data columns (total 2 columns):\n",
      " #   Column  Non-Null Count   Dtype         \n",
      "---  ------  --------------   -----         \n",
      " 0   date    527472 non-null  datetime64[ns]\n",
      " 1   sales   527472 non-null  object        \n",
      "dtypes: datetime64[ns](1), object(1)\n",
      "memory usage: 8.0+ MB\n"
     ]
    }
   ],
   "source": [
    "first_sales.info()"
   ]
  },
  {
   "cell_type": "code",
   "execution_count": 66,
   "id": "20e7cd6c",
   "metadata": {},
   "outputs": [
    {
     "data": {
      "text/html": [
       "<div>\n",
       "<style scoped>\n",
       "    .dataframe tbody tr th:only-of-type {\n",
       "        vertical-align: middle;\n",
       "    }\n",
       "\n",
       "    .dataframe tbody tr th {\n",
       "        vertical-align: top;\n",
       "    }\n",
       "\n",
       "    .dataframe thead th {\n",
       "        text-align: right;\n",
       "    }\n",
       "</style>\n",
       "<table border=\"1\" class=\"dataframe\">\n",
       "  <thead>\n",
       "    <tr style=\"text-align: right;\">\n",
       "      <th></th>\n",
       "      <th>date</th>\n",
       "      <th>sales</th>\n",
       "    </tr>\n",
       "  </thead>\n",
       "  <tbody>\n",
       "    <tr>\n",
       "      <th>0</th>\n",
       "      <td>2016-January-Fri</td>\n",
       "      <td>0.0</td>\n",
       "    </tr>\n",
       "    <tr>\n",
       "      <th>1</th>\n",
       "      <td>2016-January-Fri</td>\n",
       "      <td>0.0</td>\n",
       "    </tr>\n",
       "    <tr>\n",
       "      <th>2</th>\n",
       "      <td>2016-January-Fri</td>\n",
       "      <td>0.0</td>\n",
       "    </tr>\n",
       "    <tr>\n",
       "      <th>3</th>\n",
       "      <td>2016-January-Fri</td>\n",
       "      <td>0.0</td>\n",
       "    </tr>\n",
       "    <tr>\n",
       "      <th>4</th>\n",
       "      <td>2016-January-Fri</td>\n",
       "      <td>0.0</td>\n",
       "    </tr>\n",
       "    <tr>\n",
       "      <th>...</th>\n",
       "      <td>...</td>\n",
       "      <td>...</td>\n",
       "    </tr>\n",
       "    <tr>\n",
       "      <th>527467</th>\n",
       "      <td>2016-October-Sat</td>\n",
       "      <td>544.287</td>\n",
       "    </tr>\n",
       "    <tr>\n",
       "      <th>527468</th>\n",
       "      <td>2016-October-Sat</td>\n",
       "      <td>116.352</td>\n",
       "    </tr>\n",
       "    <tr>\n",
       "      <th>527469</th>\n",
       "      <td>2016-October-Sat</td>\n",
       "      <td>1537.244</td>\n",
       "    </tr>\n",
       "    <tr>\n",
       "      <th>527470</th>\n",
       "      <td>2016-October-Sat</td>\n",
       "      <td>1.0</td>\n",
       "    </tr>\n",
       "    <tr>\n",
       "      <th>527471</th>\n",
       "      <td>2016-October-Sat</td>\n",
       "      <td>6.0</td>\n",
       "    </tr>\n",
       "  </tbody>\n",
       "</table>\n",
       "<p>527472 rows × 2 columns</p>\n",
       "</div>"
      ],
      "text/plain": [
       "                    date     sales\n",
       "0       2016-January-Fri       0.0\n",
       "1       2016-January-Fri       0.0\n",
       "2       2016-January-Fri       0.0\n",
       "3       2016-January-Fri       0.0\n",
       "4       2016-January-Fri       0.0\n",
       "...                  ...       ...\n",
       "527467  2016-October-Sat   544.287\n",
       "527468  2016-October-Sat   116.352\n",
       "527469  2016-October-Sat  1537.244\n",
       "527470  2016-October-Sat       1.0\n",
       "527471  2016-October-Sat       6.0\n",
       "\n",
       "[527472 rows x 2 columns]"
      ]
     },
     "execution_count": 66,
     "metadata": {},
     "output_type": "execute_result"
    }
   ],
   "source": [
    "first_sales.assign(date = first_sales[\"date\"].dt.strftime(\"%Y-%B-%a\"))#you can specify multiple datatime codes \n",
    "                                                                        #and punctuation to create custom format"
   ]
  },
  {
   "cell_type": "code",
   "execution_count": 68,
   "id": "6e078fcd",
   "metadata": {},
   "outputs": [
    {
     "data": {
      "text/plain": [
       "0    16-Jan-01\n",
       "1    16-Jan-01\n",
       "2    16-Jan-01\n",
       "3    16-Jan-01\n",
       "4    16-Jan-01\n",
       "Name: date, dtype: object"
      ]
     },
     "execution_count": 68,
     "metadata": {},
     "output_type": "execute_result"
    }
   ],
   "source": [
    "first_sales[\"date\"].dt.strftime(\"%Y\").head()\n",
    "first_sales[\"date\"].dt.strftime(\"%y-%b-%d\").head()"
   ]
  },
  {
   "cell_type": "code",
   "execution_count": 71,
   "id": "2e684995",
   "metadata": {},
   "outputs": [
    {
     "data": {
      "text/plain": [
       "0         2016\n",
       "1         2016\n",
       "2         2016\n",
       "3         2016\n",
       "4         2016\n",
       "          ... \n",
       "527467    2016\n",
       "527468    2016\n",
       "527469    2016\n",
       "527470    2016\n",
       "527471    2016\n",
       "Name: date, Length: 527472, dtype: int64"
      ]
     },
     "execution_count": 71,
     "metadata": {},
     "output_type": "execute_result"
    }
   ],
   "source": [
    "#it is preferred to use the dedicated .dt accessors to extract datatime components\n",
    "first_sales[\"date\"].dt.year"
   ]
  },
  {
   "cell_type": "code",
   "execution_count": 74,
   "id": "f8f811ad",
   "metadata": {},
   "outputs": [
    {
     "data": {
      "text/plain": [
       "0    4\n",
       "1    4\n",
       "2    4\n",
       "3    4\n",
       "4    4\n",
       "Name: date, dtype: int64"
      ]
     },
     "execution_count": 74,
     "metadata": {},
     "output_type": "execute_result"
    }
   ],
   "source": [
    "first_sales[\"date\"].dt.month\n",
    "first_sales[\"date\"].dt.dayofweek.head()"
   ]
  },
  {
   "cell_type": "code",
   "execution_count": 76,
   "id": "7308d387",
   "metadata": {},
   "outputs": [
    {
     "data": {
      "text/html": [
       "<div>\n",
       "<style scoped>\n",
       "    .dataframe tbody tr th:only-of-type {\n",
       "        vertical-align: middle;\n",
       "    }\n",
       "\n",
       "    .dataframe tbody tr th {\n",
       "        vertical-align: top;\n",
       "    }\n",
       "\n",
       "    .dataframe thead th {\n",
       "        text-align: right;\n",
       "    }\n",
       "</style>\n",
       "<table border=\"1\" class=\"dataframe\">\n",
       "  <thead>\n",
       "    <tr style=\"text-align: right;\">\n",
       "      <th></th>\n",
       "      <th>date</th>\n",
       "      <th>sales</th>\n",
       "    </tr>\n",
       "  </thead>\n",
       "  <tbody>\n",
       "    <tr>\n",
       "      <th>0</th>\n",
       "      <td>2016-01-01</td>\n",
       "      <td>0.0</td>\n",
       "    </tr>\n",
       "    <tr>\n",
       "      <th>1</th>\n",
       "      <td>2016-01-01</td>\n",
       "      <td>0.0</td>\n",
       "    </tr>\n",
       "    <tr>\n",
       "      <th>2</th>\n",
       "      <td>2016-01-01</td>\n",
       "      <td>0.0</td>\n",
       "    </tr>\n",
       "    <tr>\n",
       "      <th>3</th>\n",
       "      <td>2016-01-01</td>\n",
       "      <td>0.0</td>\n",
       "    </tr>\n",
       "    <tr>\n",
       "      <th>4</th>\n",
       "      <td>2016-01-01</td>\n",
       "      <td>0.0</td>\n",
       "    </tr>\n",
       "  </tbody>\n",
       "</table>\n",
       "</div>"
      ],
      "text/plain": [
       "        date sales\n",
       "0 2016-01-01   0.0\n",
       "1 2016-01-01   0.0\n",
       "2 2016-01-01   0.0\n",
       "3 2016-01-01   0.0\n",
       "4 2016-01-01   0.0"
      ]
     },
     "execution_count": 76,
     "metadata": {},
     "output_type": "execute_result"
    }
   ],
   "source": [
    "first_sales.head()"
   ]
  },
  {
   "cell_type": "code",
   "execution_count": 80,
   "id": "9417deee",
   "metadata": {},
   "outputs": [],
   "source": [
    "#create a column for year,quarter, day_of_week from the column date\n",
    "first_sales = first_sales.assign(year = first_sales[\"date\"].dt.year,\n",
    "                                quarter = first_sales[\"date\"].dt.quarter,\n",
    "                                day_of_week = first_sales[\"date\"].dt.dayofweek)"
   ]
  },
  {
   "cell_type": "code",
   "execution_count": 81,
   "id": "8f6233f3",
   "metadata": {},
   "outputs": [
    {
     "data": {
      "text/html": [
       "<div>\n",
       "<style scoped>\n",
       "    .dataframe tbody tr th:only-of-type {\n",
       "        vertical-align: middle;\n",
       "    }\n",
       "\n",
       "    .dataframe tbody tr th {\n",
       "        vertical-align: top;\n",
       "    }\n",
       "\n",
       "    .dataframe thead th {\n",
       "        text-align: right;\n",
       "    }\n",
       "</style>\n",
       "<table border=\"1\" class=\"dataframe\">\n",
       "  <thead>\n",
       "    <tr style=\"text-align: right;\">\n",
       "      <th></th>\n",
       "      <th>date</th>\n",
       "      <th>sales</th>\n",
       "      <th>year</th>\n",
       "      <th>quarter</th>\n",
       "      <th>day_of_week</th>\n",
       "    </tr>\n",
       "  </thead>\n",
       "  <tbody>\n",
       "    <tr>\n",
       "      <th>0</th>\n",
       "      <td>2016-01-01</td>\n",
       "      <td>0.0</td>\n",
       "      <td>2016</td>\n",
       "      <td>1</td>\n",
       "      <td>4</td>\n",
       "    </tr>\n",
       "    <tr>\n",
       "      <th>1</th>\n",
       "      <td>2016-01-01</td>\n",
       "      <td>0.0</td>\n",
       "      <td>2016</td>\n",
       "      <td>1</td>\n",
       "      <td>4</td>\n",
       "    </tr>\n",
       "    <tr>\n",
       "      <th>2</th>\n",
       "      <td>2016-01-01</td>\n",
       "      <td>0.0</td>\n",
       "      <td>2016</td>\n",
       "      <td>1</td>\n",
       "      <td>4</td>\n",
       "    </tr>\n",
       "    <tr>\n",
       "      <th>3</th>\n",
       "      <td>2016-01-01</td>\n",
       "      <td>0.0</td>\n",
       "      <td>2016</td>\n",
       "      <td>1</td>\n",
       "      <td>4</td>\n",
       "    </tr>\n",
       "    <tr>\n",
       "      <th>4</th>\n",
       "      <td>2016-01-01</td>\n",
       "      <td>0.0</td>\n",
       "      <td>2016</td>\n",
       "      <td>1</td>\n",
       "      <td>4</td>\n",
       "    </tr>\n",
       "  </tbody>\n",
       "</table>\n",
       "</div>"
      ],
      "text/plain": [
       "        date sales  year  quarter  day_of_week\n",
       "0 2016-01-01   0.0  2016        1            4\n",
       "1 2016-01-01   0.0  2016        1            4\n",
       "2 2016-01-01   0.0  2016        1            4\n",
       "3 2016-01-01   0.0  2016        1            4\n",
       "4 2016-01-01   0.0  2016        1            4"
      ]
     },
     "execution_count": 81,
     "metadata": {},
     "output_type": "execute_result"
    }
   ],
   "source": [
    "first_sales.head()"
   ]
  },
  {
   "cell_type": "markdown",
   "id": "21a35fef",
   "metadata": {},
   "source": [
    "### **Time deltas** represent the amount or time,or the difference between two datetimes\n",
    "Time delta is returned when subtracting two datetime values.\n"
   ]
  },
  {
   "cell_type": "code",
   "execution_count": 91,
   "id": "4d0bc333",
   "metadata": {},
   "outputs": [],
   "source": [
    "age_df =pd.DataFrame().assign(born_year = first_sales[\"date\"],current_year = pd.to_datetime(\"2025-03-25\"))"
   ]
  },
  {
   "cell_type": "code",
   "execution_count": 93,
   "id": "a9bf6786",
   "metadata": {},
   "outputs": [
    {
     "data": {
      "text/html": [
       "<div>\n",
       "<style scoped>\n",
       "    .dataframe tbody tr th:only-of-type {\n",
       "        vertical-align: middle;\n",
       "    }\n",
       "\n",
       "    .dataframe tbody tr th {\n",
       "        vertical-align: top;\n",
       "    }\n",
       "\n",
       "    .dataframe thead th {\n",
       "        text-align: right;\n",
       "    }\n",
       "</style>\n",
       "<table border=\"1\" class=\"dataframe\">\n",
       "  <thead>\n",
       "    <tr style=\"text-align: right;\">\n",
       "      <th></th>\n",
       "      <th>born_year</th>\n",
       "      <th>current_year</th>\n",
       "    </tr>\n",
       "  </thead>\n",
       "  <tbody>\n",
       "    <tr>\n",
       "      <th>0</th>\n",
       "      <td>2016-01-01</td>\n",
       "      <td>2025-03-25</td>\n",
       "    </tr>\n",
       "    <tr>\n",
       "      <th>1</th>\n",
       "      <td>2016-01-01</td>\n",
       "      <td>2025-03-25</td>\n",
       "    </tr>\n",
       "    <tr>\n",
       "      <th>2</th>\n",
       "      <td>2016-01-01</td>\n",
       "      <td>2025-03-25</td>\n",
       "    </tr>\n",
       "    <tr>\n",
       "      <th>3</th>\n",
       "      <td>2016-01-01</td>\n",
       "      <td>2025-03-25</td>\n",
       "    </tr>\n",
       "    <tr>\n",
       "      <th>4</th>\n",
       "      <td>2016-01-01</td>\n",
       "      <td>2025-03-25</td>\n",
       "    </tr>\n",
       "  </tbody>\n",
       "</table>\n",
       "</div>"
      ],
      "text/plain": [
       "   born_year current_year\n",
       "0 2016-01-01   2025-03-25\n",
       "1 2016-01-01   2025-03-25\n",
       "2 2016-01-01   2025-03-25\n",
       "3 2016-01-01   2025-03-25\n",
       "4 2016-01-01   2025-03-25"
      ]
     },
     "execution_count": 93,
     "metadata": {},
     "output_type": "execute_result"
    }
   ],
   "source": [
    "age_df.head()"
   ]
  },
  {
   "cell_type": "code",
   "execution_count": 101,
   "id": "06abf5e6",
   "metadata": {},
   "outputs": [],
   "source": [
    "age_df = age_df.assign(age =(age_df[\"current_year\"] - age_df[\"born_year\"]).dt.days/365.25)"
   ]
  },
  {
   "cell_type": "code",
   "execution_count": 103,
   "id": "5fe715c0",
   "metadata": {},
   "outputs": [
    {
     "data": {
      "text/html": [
       "<div>\n",
       "<style scoped>\n",
       "    .dataframe tbody tr th:only-of-type {\n",
       "        vertical-align: middle;\n",
       "    }\n",
       "\n",
       "    .dataframe tbody tr th {\n",
       "        vertical-align: top;\n",
       "    }\n",
       "\n",
       "    .dataframe thead th {\n",
       "        text-align: right;\n",
       "    }\n",
       "</style>\n",
       "<table border=\"1\" class=\"dataframe\">\n",
       "  <thead>\n",
       "    <tr style=\"text-align: right;\">\n",
       "      <th></th>\n",
       "      <th>born_year</th>\n",
       "      <th>current_year</th>\n",
       "      <th>age</th>\n",
       "    </tr>\n",
       "  </thead>\n",
       "  <tbody>\n",
       "    <tr>\n",
       "      <th>0</th>\n",
       "      <td>2016-01-01</td>\n",
       "      <td>2025-03-25</td>\n",
       "      <td>9.229295</td>\n",
       "    </tr>\n",
       "    <tr>\n",
       "      <th>1</th>\n",
       "      <td>2016-01-01</td>\n",
       "      <td>2025-03-25</td>\n",
       "      <td>9.229295</td>\n",
       "    </tr>\n",
       "    <tr>\n",
       "      <th>2</th>\n",
       "      <td>2016-01-01</td>\n",
       "      <td>2025-03-25</td>\n",
       "      <td>9.229295</td>\n",
       "    </tr>\n",
       "    <tr>\n",
       "      <th>3</th>\n",
       "      <td>2016-01-01</td>\n",
       "      <td>2025-03-25</td>\n",
       "      <td>9.229295</td>\n",
       "    </tr>\n",
       "    <tr>\n",
       "      <th>4</th>\n",
       "      <td>2016-01-01</td>\n",
       "      <td>2025-03-25</td>\n",
       "      <td>9.229295</td>\n",
       "    </tr>\n",
       "  </tbody>\n",
       "</table>\n",
       "</div>"
      ],
      "text/plain": [
       "   born_year current_year       age\n",
       "0 2016-01-01   2025-03-25  9.229295\n",
       "1 2016-01-01   2025-03-25  9.229295\n",
       "2 2016-01-01   2025-03-25  9.229295\n",
       "3 2016-01-01   2025-03-25  9.229295\n",
       "4 2016-01-01   2025-03-25  9.229295"
      ]
     },
     "execution_count": 103,
     "metadata": {},
     "output_type": "execute_result"
    }
   ],
   "source": [
    "age_df.head()"
   ]
  },
  {
   "cell_type": "markdown",
   "id": "2fbf46c7",
   "metadata": {},
   "source": [
    "### Use datetime as the index to allow for intutive slicing of you dataframe"
   ]
  },
  {
   "cell_type": "code",
   "execution_count": 114,
   "id": "7d449ef6",
   "metadata": {},
   "outputs": [
    {
     "name": "stderr",
     "output_type": "stream",
     "text": [
      "C:\\Users\\Nandhini\\AppData\\Local\\Temp\\ipykernel_19532\\2958813432.py:1: SettingWithCopyWarning: \n",
      "A value is trying to be set on a copy of a slice from a DataFrame.\n",
      "Try using .loc[row_indexer,col_indexer] = value instead\n",
      "\n",
      "See the caveats in the documentation: https://pandas.pydata.org/pandas-docs/stable/user_guide/indexing.html#returning-a-view-versus-a-copy\n",
      "  second_sales[\"date\"] =pd.to_datetime(second_sales[\"date\"])\n"
     ]
    }
   ],
   "source": [
    "second_sales[\"date\"] =pd.to_datetime(second_sales[\"date\"])"
   ]
  },
  {
   "cell_type": "code",
   "execution_count": 119,
   "id": "cccbe3d3",
   "metadata": {},
   "outputs": [
    {
     "data": {
      "text/html": [
       "<div>\n",
       "<style scoped>\n",
       "    .dataframe tbody tr th:only-of-type {\n",
       "        vertical-align: middle;\n",
       "    }\n",
       "\n",
       "    .dataframe tbody tr th {\n",
       "        vertical-align: top;\n",
       "    }\n",
       "\n",
       "    .dataframe thead th {\n",
       "        text-align: right;\n",
       "    }\n",
       "</style>\n",
       "<table border=\"1\" class=\"dataframe\">\n",
       "  <thead>\n",
       "    <tr style=\"text-align: right;\">\n",
       "      <th></th>\n",
       "      <th>date</th>\n",
       "      <th>sales</th>\n",
       "    </tr>\n",
       "  </thead>\n",
       "  <tbody>\n",
       "    <tr>\n",
       "      <th>527472</th>\n",
       "      <td>2016-10-23</td>\n",
       "      <td>0.000</td>\n",
       "    </tr>\n",
       "    <tr>\n",
       "      <th>527473</th>\n",
       "      <td>2016-10-23</td>\n",
       "      <td>0.000</td>\n",
       "    </tr>\n",
       "    <tr>\n",
       "      <th>527474</th>\n",
       "      <td>2016-10-23</td>\n",
       "      <td>3.000</td>\n",
       "    </tr>\n",
       "    <tr>\n",
       "      <th>527475</th>\n",
       "      <td>2016-10-23</td>\n",
       "      <td>1106.000</td>\n",
       "    </tr>\n",
       "    <tr>\n",
       "      <th>527476</th>\n",
       "      <td>2016-10-23</td>\n",
       "      <td>0.000</td>\n",
       "    </tr>\n",
       "    <tr>\n",
       "      <th>...</th>\n",
       "      <td>...</td>\n",
       "      <td>...</td>\n",
       "    </tr>\n",
       "    <tr>\n",
       "      <th>650425</th>\n",
       "      <td>2016-12-31</td>\n",
       "      <td>687.853</td>\n",
       "    </tr>\n",
       "    <tr>\n",
       "      <th>650426</th>\n",
       "      <td>2016-12-31</td>\n",
       "      <td>100.405</td>\n",
       "    </tr>\n",
       "    <tr>\n",
       "      <th>650427</th>\n",
       "      <td>2016-12-31</td>\n",
       "      <td>3091.356</td>\n",
       "    </tr>\n",
       "    <tr>\n",
       "      <th>650428</th>\n",
       "      <td>2016-12-31</td>\n",
       "      <td>2.000</td>\n",
       "    </tr>\n",
       "    <tr>\n",
       "      <th>650429</th>\n",
       "      <td>2016-12-31</td>\n",
       "      <td>13.000</td>\n",
       "    </tr>\n",
       "  </tbody>\n",
       "</table>\n",
       "<p>122958 rows × 2 columns</p>\n",
       "</div>"
      ],
      "text/plain": [
       "             date     sales\n",
       "527472 2016-10-23     0.000\n",
       "527473 2016-10-23     0.000\n",
       "527474 2016-10-23     3.000\n",
       "527475 2016-10-23  1106.000\n",
       "527476 2016-10-23     0.000\n",
       "...           ...       ...\n",
       "650425 2016-12-31   687.853\n",
       "650426 2016-12-31   100.405\n",
       "650427 2016-12-31  3091.356\n",
       "650428 2016-12-31     2.000\n",
       "650429 2016-12-31    13.000\n",
       "\n",
       "[122958 rows x 2 columns]"
      ]
     },
     "execution_count": 119,
     "metadata": {},
     "output_type": "execute_result"
    }
   ],
   "source": [
    "\n",
    "second_sales.loc[second_sales[\"date\"].dt.year==2016]"
   ]
  },
  {
   "cell_type": "code",
   "execution_count": 121,
   "id": "10aac010",
   "metadata": {},
   "outputs": [
    {
     "data": {
      "text/html": [
       "<div>\n",
       "<style scoped>\n",
       "    .dataframe tbody tr th:only-of-type {\n",
       "        vertical-align: middle;\n",
       "    }\n",
       "\n",
       "    .dataframe tbody tr th {\n",
       "        vertical-align: top;\n",
       "    }\n",
       "\n",
       "    .dataframe thead th {\n",
       "        text-align: right;\n",
       "    }\n",
       "</style>\n",
       "<table border=\"1\" class=\"dataframe\">\n",
       "  <thead>\n",
       "    <tr style=\"text-align: right;\">\n",
       "      <th></th>\n",
       "      <th>sales</th>\n",
       "    </tr>\n",
       "    <tr>\n",
       "      <th>date</th>\n",
       "      <th></th>\n",
       "    </tr>\n",
       "  </thead>\n",
       "  <tbody>\n",
       "    <tr>\n",
       "      <th>2016-10-23</th>\n",
       "      <td>0.000</td>\n",
       "    </tr>\n",
       "    <tr>\n",
       "      <th>2016-10-23</th>\n",
       "      <td>0.000</td>\n",
       "    </tr>\n",
       "    <tr>\n",
       "      <th>2016-10-23</th>\n",
       "      <td>3.000</td>\n",
       "    </tr>\n",
       "    <tr>\n",
       "      <th>2016-10-23</th>\n",
       "      <td>1106.000</td>\n",
       "    </tr>\n",
       "    <tr>\n",
       "      <th>2016-10-23</th>\n",
       "      <td>0.000</td>\n",
       "    </tr>\n",
       "    <tr>\n",
       "      <th>...</th>\n",
       "      <td>...</td>\n",
       "    </tr>\n",
       "    <tr>\n",
       "      <th>2017-08-15</th>\n",
       "      <td>438.133</td>\n",
       "    </tr>\n",
       "    <tr>\n",
       "      <th>2017-08-15</th>\n",
       "      <td>154.553</td>\n",
       "    </tr>\n",
       "    <tr>\n",
       "      <th>2017-08-15</th>\n",
       "      <td>2419.729</td>\n",
       "    </tr>\n",
       "    <tr>\n",
       "      <th>2017-08-15</th>\n",
       "      <td>121.000</td>\n",
       "    </tr>\n",
       "    <tr>\n",
       "      <th>2017-08-15</th>\n",
       "      <td>16.000</td>\n",
       "    </tr>\n",
       "  </tbody>\n",
       "</table>\n",
       "<p>527472 rows × 1 columns</p>\n",
       "</div>"
      ],
      "text/plain": [
       "               sales\n",
       "date                \n",
       "2016-10-23     0.000\n",
       "2016-10-23     0.000\n",
       "2016-10-23     3.000\n",
       "2016-10-23  1106.000\n",
       "2016-10-23     0.000\n",
       "...              ...\n",
       "2017-08-15   438.133\n",
       "2017-08-15   154.553\n",
       "2017-08-15  2419.729\n",
       "2017-08-15   121.000\n",
       "2017-08-15    16.000\n",
       "\n",
       "[527472 rows x 1 columns]"
      ]
     },
     "execution_count": 121,
     "metadata": {},
     "output_type": "execute_result"
    }
   ],
   "source": [
    "second_sales.set_index(\"date\")"
   ]
  },
  {
   "cell_type": "code",
   "execution_count": 123,
   "id": "5c12eb8b",
   "metadata": {},
   "outputs": [
    {
     "data": {
      "text/html": [
       "<div>\n",
       "<style scoped>\n",
       "    .dataframe tbody tr th:only-of-type {\n",
       "        vertical-align: middle;\n",
       "    }\n",
       "\n",
       "    .dataframe tbody tr th {\n",
       "        vertical-align: top;\n",
       "    }\n",
       "\n",
       "    .dataframe thead th {\n",
       "        text-align: right;\n",
       "    }\n",
       "</style>\n",
       "<table border=\"1\" class=\"dataframe\">\n",
       "  <thead>\n",
       "    <tr style=\"text-align: right;\">\n",
       "      <th></th>\n",
       "      <th>sales</th>\n",
       "    </tr>\n",
       "    <tr>\n",
       "      <th>date</th>\n",
       "      <th></th>\n",
       "    </tr>\n",
       "  </thead>\n",
       "  <tbody>\n",
       "    <tr>\n",
       "      <th>2016-10-23</th>\n",
       "      <td>0.000</td>\n",
       "    </tr>\n",
       "    <tr>\n",
       "      <th>2016-10-23</th>\n",
       "      <td>0.000</td>\n",
       "    </tr>\n",
       "    <tr>\n",
       "      <th>2016-10-23</th>\n",
       "      <td>3.000</td>\n",
       "    </tr>\n",
       "    <tr>\n",
       "      <th>2016-10-23</th>\n",
       "      <td>1106.000</td>\n",
       "    </tr>\n",
       "    <tr>\n",
       "      <th>2016-10-23</th>\n",
       "      <td>0.000</td>\n",
       "    </tr>\n",
       "    <tr>\n",
       "      <th>...</th>\n",
       "      <td>...</td>\n",
       "    </tr>\n",
       "    <tr>\n",
       "      <th>2016-12-31</th>\n",
       "      <td>687.853</td>\n",
       "    </tr>\n",
       "    <tr>\n",
       "      <th>2016-12-31</th>\n",
       "      <td>100.405</td>\n",
       "    </tr>\n",
       "    <tr>\n",
       "      <th>2016-12-31</th>\n",
       "      <td>3091.356</td>\n",
       "    </tr>\n",
       "    <tr>\n",
       "      <th>2016-12-31</th>\n",
       "      <td>2.000</td>\n",
       "    </tr>\n",
       "    <tr>\n",
       "      <th>2016-12-31</th>\n",
       "      <td>13.000</td>\n",
       "    </tr>\n",
       "  </tbody>\n",
       "</table>\n",
       "<p>122958 rows × 1 columns</p>\n",
       "</div>"
      ],
      "text/plain": [
       "               sales\n",
       "date                \n",
       "2016-10-23     0.000\n",
       "2016-10-23     0.000\n",
       "2016-10-23     3.000\n",
       "2016-10-23  1106.000\n",
       "2016-10-23     0.000\n",
       "...              ...\n",
       "2016-12-31   687.853\n",
       "2016-12-31   100.405\n",
       "2016-12-31  3091.356\n",
       "2016-12-31     2.000\n",
       "2016-12-31    13.000\n",
       "\n",
       "[122958 rows x 1 columns]"
      ]
     },
     "execution_count": 123,
     "metadata": {},
     "output_type": "execute_result"
    }
   ],
   "source": [
    "second_sales.set_index(\"date\").loc[\"2016\"]"
   ]
  },
  {
   "cell_type": "code",
   "execution_count": 124,
   "id": "1facf721",
   "metadata": {},
   "outputs": [
    {
     "data": {
      "text/html": [
       "<div>\n",
       "<style scoped>\n",
       "    .dataframe tbody tr th:only-of-type {\n",
       "        vertical-align: middle;\n",
       "    }\n",
       "\n",
       "    .dataframe tbody tr th {\n",
       "        vertical-align: top;\n",
       "    }\n",
       "\n",
       "    .dataframe thead th {\n",
       "        text-align: right;\n",
       "    }\n",
       "</style>\n",
       "<table border=\"1\" class=\"dataframe\">\n",
       "  <thead>\n",
       "    <tr style=\"text-align: right;\">\n",
       "      <th></th>\n",
       "      <th>date</th>\n",
       "      <th>sales</th>\n",
       "    </tr>\n",
       "  </thead>\n",
       "  <tbody>\n",
       "    <tr>\n",
       "      <th>527472</th>\n",
       "      <td>2016-10-23</td>\n",
       "      <td>0.0</td>\n",
       "    </tr>\n",
       "    <tr>\n",
       "      <th>527473</th>\n",
       "      <td>2016-10-23</td>\n",
       "      <td>0.0</td>\n",
       "    </tr>\n",
       "    <tr>\n",
       "      <th>527474</th>\n",
       "      <td>2016-10-23</td>\n",
       "      <td>3.0</td>\n",
       "    </tr>\n",
       "    <tr>\n",
       "      <th>527475</th>\n",
       "      <td>2016-10-23</td>\n",
       "      <td>1106.0</td>\n",
       "    </tr>\n",
       "    <tr>\n",
       "      <th>527476</th>\n",
       "      <td>2016-10-23</td>\n",
       "      <td>0.0</td>\n",
       "    </tr>\n",
       "  </tbody>\n",
       "</table>\n",
       "</div>"
      ],
      "text/plain": [
       "             date   sales\n",
       "527472 2016-10-23     0.0\n",
       "527473 2016-10-23     0.0\n",
       "527474 2016-10-23     3.0\n",
       "527475 2016-10-23  1106.0\n",
       "527476 2016-10-23     0.0"
      ]
     },
     "execution_count": 124,
     "metadata": {},
     "output_type": "execute_result"
    }
   ],
   "source": [
    "second_sales.head()"
   ]
  },
  {
   "cell_type": "code",
   "execution_count": 126,
   "id": "7021b42a",
   "metadata": {},
   "outputs": [
    {
     "data": {
      "text/html": [
       "<div>\n",
       "<style scoped>\n",
       "    .dataframe tbody tr th:only-of-type {\n",
       "        vertical-align: middle;\n",
       "    }\n",
       "\n",
       "    .dataframe tbody tr th {\n",
       "        vertical-align: top;\n",
       "    }\n",
       "\n",
       "    .dataframe thead th {\n",
       "        text-align: right;\n",
       "    }\n",
       "</style>\n",
       "<table border=\"1\" class=\"dataframe\">\n",
       "  <thead>\n",
       "    <tr style=\"text-align: right;\">\n",
       "      <th></th>\n",
       "      <th>sales</th>\n",
       "    </tr>\n",
       "    <tr>\n",
       "      <th>date</th>\n",
       "      <th></th>\n",
       "    </tr>\n",
       "  </thead>\n",
       "  <tbody>\n",
       "    <tr>\n",
       "      <th>2017-01-01</th>\n",
       "      <td>0.000</td>\n",
       "    </tr>\n",
       "    <tr>\n",
       "      <th>2017-01-01</th>\n",
       "      <td>0.000</td>\n",
       "    </tr>\n",
       "    <tr>\n",
       "      <th>2017-01-01</th>\n",
       "      <td>0.000</td>\n",
       "    </tr>\n",
       "    <tr>\n",
       "      <th>2017-01-01</th>\n",
       "      <td>0.000</td>\n",
       "    </tr>\n",
       "    <tr>\n",
       "      <th>2017-01-01</th>\n",
       "      <td>0.000</td>\n",
       "    </tr>\n",
       "    <tr>\n",
       "      <th>...</th>\n",
       "      <td>...</td>\n",
       "    </tr>\n",
       "    <tr>\n",
       "      <th>2017-08-15</th>\n",
       "      <td>438.133</td>\n",
       "    </tr>\n",
       "    <tr>\n",
       "      <th>2017-08-15</th>\n",
       "      <td>154.553</td>\n",
       "    </tr>\n",
       "    <tr>\n",
       "      <th>2017-08-15</th>\n",
       "      <td>2419.729</td>\n",
       "    </tr>\n",
       "    <tr>\n",
       "      <th>2017-08-15</th>\n",
       "      <td>121.000</td>\n",
       "    </tr>\n",
       "    <tr>\n",
       "      <th>2017-08-15</th>\n",
       "      <td>16.000</td>\n",
       "    </tr>\n",
       "  </tbody>\n",
       "</table>\n",
       "<p>404514 rows × 1 columns</p>\n",
       "</div>"
      ],
      "text/plain": [
       "               sales\n",
       "date                \n",
       "2017-01-01     0.000\n",
       "2017-01-01     0.000\n",
       "2017-01-01     0.000\n",
       "2017-01-01     0.000\n",
       "2017-01-01     0.000\n",
       "...              ...\n",
       "2017-08-15   438.133\n",
       "2017-08-15   154.553\n",
       "2017-08-15  2419.729\n",
       "2017-08-15   121.000\n",
       "2017-08-15    16.000\n",
       "\n",
       "[404514 rows x 1 columns]"
      ]
     },
     "execution_count": 126,
     "metadata": {},
     "output_type": "execute_result"
    }
   ],
   "source": [
    "second_sales.set_index(\"date\").loc[\"2017\":\"2019\"]"
   ]
  },
  {
   "cell_type": "code",
   "execution_count": 127,
   "id": "284f5a42",
   "metadata": {},
   "outputs": [
    {
     "data": {
      "text/html": [
       "<div>\n",
       "<style scoped>\n",
       "    .dataframe tbody tr th:only-of-type {\n",
       "        vertical-align: middle;\n",
       "    }\n",
       "\n",
       "    .dataframe tbody tr th {\n",
       "        vertical-align: top;\n",
       "    }\n",
       "\n",
       "    .dataframe thead th {\n",
       "        text-align: right;\n",
       "    }\n",
       "</style>\n",
       "<table border=\"1\" class=\"dataframe\">\n",
       "  <thead>\n",
       "    <tr style=\"text-align: right;\">\n",
       "      <th></th>\n",
       "      <th>sales</th>\n",
       "    </tr>\n",
       "    <tr>\n",
       "      <th>date</th>\n",
       "      <th></th>\n",
       "    </tr>\n",
       "  </thead>\n",
       "  <tbody>\n",
       "    <tr>\n",
       "      <th>2017-02-01</th>\n",
       "      <td>7.000</td>\n",
       "    </tr>\n",
       "    <tr>\n",
       "      <th>2017-02-01</th>\n",
       "      <td>0.000</td>\n",
       "    </tr>\n",
       "    <tr>\n",
       "      <th>2017-02-01</th>\n",
       "      <td>7.000</td>\n",
       "    </tr>\n",
       "    <tr>\n",
       "      <th>2017-02-01</th>\n",
       "      <td>2399.000</td>\n",
       "    </tr>\n",
       "    <tr>\n",
       "      <th>2017-02-01</th>\n",
       "      <td>1.000</td>\n",
       "    </tr>\n",
       "    <tr>\n",
       "      <th>...</th>\n",
       "      <td>...</td>\n",
       "    </tr>\n",
       "    <tr>\n",
       "      <th>2017-08-15</th>\n",
       "      <td>438.133</td>\n",
       "    </tr>\n",
       "    <tr>\n",
       "      <th>2017-08-15</th>\n",
       "      <td>154.553</td>\n",
       "    </tr>\n",
       "    <tr>\n",
       "      <th>2017-08-15</th>\n",
       "      <td>2419.729</td>\n",
       "    </tr>\n",
       "    <tr>\n",
       "      <th>2017-08-15</th>\n",
       "      <td>121.000</td>\n",
       "    </tr>\n",
       "    <tr>\n",
       "      <th>2017-08-15</th>\n",
       "      <td>16.000</td>\n",
       "    </tr>\n",
       "  </tbody>\n",
       "</table>\n",
       "<p>349272 rows × 1 columns</p>\n",
       "</div>"
      ],
      "text/plain": [
       "               sales\n",
       "date                \n",
       "2017-02-01     7.000\n",
       "2017-02-01     0.000\n",
       "2017-02-01     7.000\n",
       "2017-02-01  2399.000\n",
       "2017-02-01     1.000\n",
       "...              ...\n",
       "2017-08-15   438.133\n",
       "2017-08-15   154.553\n",
       "2017-08-15  2419.729\n",
       "2017-08-15   121.000\n",
       "2017-08-15    16.000\n",
       "\n",
       "[349272 rows x 1 columns]"
      ]
     },
     "execution_count": 127,
     "metadata": {},
     "output_type": "execute_result"
    }
   ],
   "source": [
    "second_sales.set_index(\"date\").loc[\"2017-02\":\"2018-02\"]"
   ]
  },
  {
   "cell_type": "markdown",
   "id": "5a034de9",
   "metadata": {},
   "source": [
    "### Time series data allows for methods for fixing missing data beyond .fillna()"
   ]
  },
  {
   "cell_type": "code",
   "execution_count": 143,
   "id": "3ca9bdc9",
   "metadata": {},
   "outputs": [],
   "source": [
    "sales_2017 = second_sales.set_index(\"date\").loc[\"2017\"]"
   ]
  },
  {
   "cell_type": "code",
   "execution_count": 144,
   "id": "188c5301",
   "metadata": {},
   "outputs": [
    {
     "data": {
      "text/plain": [
       "480.12446633063644"
      ]
     },
     "execution_count": 144,
     "metadata": {},
     "output_type": "execute_result"
    }
   ],
   "source": [
    "sales_2017[\"sales\"].mean()"
   ]
  },
  {
   "cell_type": "code",
   "execution_count": 152,
   "id": "925337c6",
   "metadata": {},
   "outputs": [],
   "source": [
    "everyday_sales_2017 = sales_2017.groupby(\"date\").agg(\"mean\").round(2)"
   ]
  },
  {
   "cell_type": "code",
   "execution_count": 156,
   "id": "f39cb269",
   "metadata": {},
   "outputs": [],
   "source": [
    "everyday_sales_2017.loc[\"2017-01-02\"] =\"N/A\"\n",
    "everyday_sales_2017.loc[\"2017-01-06\"] =\"N/A\"\n",
    "everyday_sales_2017.loc[\"2017-01-08\"] =\"N/A\""
   ]
  },
  {
   "cell_type": "code",
   "execution_count": 158,
   "id": "30c9e009",
   "metadata": {},
   "outputs": [
    {
     "data": {
      "text/html": [
       "<div>\n",
       "<style scoped>\n",
       "    .dataframe tbody tr th:only-of-type {\n",
       "        vertical-align: middle;\n",
       "    }\n",
       "\n",
       "    .dataframe tbody tr th {\n",
       "        vertical-align: top;\n",
       "    }\n",
       "\n",
       "    .dataframe thead th {\n",
       "        text-align: right;\n",
       "    }\n",
       "</style>\n",
       "<table border=\"1\" class=\"dataframe\">\n",
       "  <thead>\n",
       "    <tr style=\"text-align: right;\">\n",
       "      <th></th>\n",
       "      <th>sales</th>\n",
       "    </tr>\n",
       "    <tr>\n",
       "      <th>date</th>\n",
       "      <th></th>\n",
       "    </tr>\n",
       "  </thead>\n",
       "  <tbody>\n",
       "    <tr>\n",
       "      <th>2017-01-01</th>\n",
       "      <td>6.78</td>\n",
       "    </tr>\n",
       "    <tr>\n",
       "      <th>2017-01-02</th>\n",
       "      <td>N/A</td>\n",
       "    </tr>\n",
       "    <tr>\n",
       "      <th>2017-01-03</th>\n",
       "      <td>619.74</td>\n",
       "    </tr>\n",
       "    <tr>\n",
       "      <th>2017-01-04</th>\n",
       "      <td>555.61</td>\n",
       "    </tr>\n",
       "    <tr>\n",
       "      <th>2017-01-05</th>\n",
       "      <td>436.38</td>\n",
       "    </tr>\n",
       "    <tr>\n",
       "      <th>2017-01-06</th>\n",
       "      <td>N/A</td>\n",
       "    </tr>\n",
       "    <tr>\n",
       "      <th>2017-01-07</th>\n",
       "      <td>619.42</td>\n",
       "    </tr>\n",
       "    <tr>\n",
       "      <th>2017-01-08</th>\n",
       "      <td>N/A</td>\n",
       "    </tr>\n",
       "    <tr>\n",
       "      <th>2017-01-09</th>\n",
       "      <td>445.41</td>\n",
       "    </tr>\n",
       "    <tr>\n",
       "      <th>2017-01-10</th>\n",
       "      <td>416.74</td>\n",
       "    </tr>\n",
       "  </tbody>\n",
       "</table>\n",
       "</div>"
      ],
      "text/plain": [
       "             sales\n",
       "date              \n",
       "2017-01-01    6.78\n",
       "2017-01-02     N/A\n",
       "2017-01-03  619.74\n",
       "2017-01-04  555.61\n",
       "2017-01-05  436.38\n",
       "2017-01-06     N/A\n",
       "2017-01-07  619.42\n",
       "2017-01-08     N/A\n",
       "2017-01-09  445.41\n",
       "2017-01-10  416.74"
      ]
     },
     "execution_count": 158,
     "metadata": {},
     "output_type": "execute_result"
    }
   ],
   "source": [
    "everyday_sales_2017.head(10)"
   ]
  },
  {
   "cell_type": "code",
   "execution_count": null,
   "id": "fc85c8ac",
   "metadata": {},
   "outputs": [],
   "source": [
    "#dataset for practising missing time series data"
   ]
  }
 ],
 "metadata": {
  "kernelspec": {
   "display_name": "Python 3 (ipykernel)",
   "language": "python",
   "name": "python3"
  },
  "language_info": {
   "codemirror_mode": {
    "name": "ipython",
    "version": 3
   },
   "file_extension": ".py",
   "mimetype": "text/x-python",
   "name": "python",
   "nbconvert_exporter": "python",
   "pygments_lexer": "ipython3",
   "version": "3.10.9"
  }
 },
 "nbformat": 4,
 "nbformat_minor": 5
}
