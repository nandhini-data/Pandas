{
 "cells": [
  {
   "cell_type": "code",
   "execution_count": 1,
   "id": "f64e0c03",
   "metadata": {},
   "outputs": [],
   "source": [
    "import pandas as pd\n",
    "import numpy as np"
   ]
  },
  {
   "cell_type": "code",
   "execution_count": 2,
   "id": "7ba69e69",
   "metadata": {},
   "outputs": [],
   "source": [
    "sales_data =[9,10,12,31,np.nan,49]"
   ]
  },
  {
   "cell_type": "code",
   "execution_count": 3,
   "id": "45336a75",
   "metadata": {},
   "outputs": [],
   "source": [
    "sales_series =pd.Series(sales_data,name='sales')"
   ]
  },
  {
   "cell_type": "code",
   "execution_count": 4,
   "id": "84899f9d",
   "metadata": {},
   "outputs": [
    {
     "data": {
      "text/plain": [
       "0     9.0\n",
       "1    10.0\n",
       "2    12.0\n",
       "3    31.0\n",
       "4     NaN\n",
       "5    49.0\n",
       "Name: sales, dtype: float64"
      ]
     },
     "execution_count": 4,
     "metadata": {},
     "output_type": "execute_result"
    }
   ],
   "source": [
    "sales_series"
   ]
  },
  {
   "cell_type": "code",
   "execution_count": 5,
   "id": "80ab7a9b",
   "metadata": {},
   "outputs": [
    {
     "data": {
      "text/plain": [
       "0    19.0\n",
       "1    20.0\n",
       "2    22.0\n",
       "3    41.0\n",
       "4     NaN\n",
       "5    59.0\n",
       "Name: sales, dtype: float64"
      ]
     },
     "execution_count": 5,
     "metadata": {},
     "output_type": "execute_result"
    }
   ],
   "source": [
    "sales_series + 10"
   ]
  },
  {
   "cell_type": "code",
   "execution_count": 6,
   "id": "c8ecdbe7",
   "metadata": {},
   "outputs": [
    {
     "data": {
      "text/plain": [
       "0    19.0\n",
       "1    20.0\n",
       "2    22.0\n",
       "3    41.0\n",
       "4    10.0\n",
       "5    59.0\n",
       "Name: sales, dtype: float64"
      ]
     },
     "execution_count": 6,
     "metadata": {},
     "output_type": "execute_result"
    }
   ],
   "source": [
    "sales_series.add(10,fill_value =0)"
   ]
  },
  {
   "cell_type": "code",
   "execution_count": 7,
   "id": "6831e784",
   "metadata": {},
   "outputs": [],
   "source": [
    "sales =[0,19,21,23,pd.NA,71]"
   ]
  },
  {
   "cell_type": "code",
   "execution_count": 14,
   "id": "f9bf53f3",
   "metadata": {},
   "outputs": [],
   "source": [
    "sales_series2 =pd.Series(sales,name='sales2',dtype='Int16')"
   ]
  },
  {
   "cell_type": "code",
   "execution_count": 16,
   "id": "ff04d593",
   "metadata": {},
   "outputs": [
    {
     "data": {
      "text/plain": [
       "0       0\n",
       "1      19\n",
       "2      21\n",
       "3      23\n",
       "4    <NA>\n",
       "5      71\n",
       "Name: sales2, dtype: Int16"
      ]
     },
     "execution_count": 16,
     "metadata": {},
     "output_type": "execute_result"
    }
   ],
   "source": [
    "sales_series2"
   ]
  },
  {
   "cell_type": "code",
   "execution_count": 18,
   "id": "f1262e51",
   "metadata": {},
   "outputs": [
    {
     "data": {
      "text/plain": [
       "0    False\n",
       "1    False\n",
       "2    False\n",
       "3    False\n",
       "4     True\n",
       "5    False\n",
       "Name: sales2, dtype: bool"
      ]
     },
     "execution_count": 18,
     "metadata": {},
     "output_type": "execute_result"
    }
   ],
   "source": [
    "sales_series2.isna()"
   ]
  },
  {
   "cell_type": "code",
   "execution_count": 19,
   "id": "8cc96f2f",
   "metadata": {},
   "outputs": [
    {
     "data": {
      "text/plain": [
       "1"
      ]
     },
     "execution_count": 19,
     "metadata": {},
     "output_type": "execute_result"
    }
   ],
   "source": [
    "# isna().sum() return the sum of nan values\n",
    "\n",
    "sales_series.isna().sum()"
   ]
  },
  {
   "cell_type": "code",
   "execution_count": 22,
   "id": "30bdb465",
   "metadata": {},
   "outputs": [
    {
     "data": {
      "text/plain": [
       "0       1\n",
       "19      1\n",
       "21      1\n",
       "23      1\n",
       "71      1\n",
       "<NA>    1\n",
       "Name: sales2, dtype: Int64"
      ]
     },
     "execution_count": 22,
     "metadata": {},
     "output_type": "execute_result"
    }
   ],
   "source": [
    "sales_series2.value_counts(dropna =False)"
   ]
  },
  {
   "cell_type": "code",
   "execution_count": 27,
   "id": "eb8267db",
   "metadata": {},
   "outputs": [
    {
     "data": {
      "text/plain": [
       "0     9.0\n",
       "1    10.0\n",
       "2    12.0\n",
       "3    31.0\n",
       "5    49.0\n",
       "Name: sales, dtype: float64"
      ]
     },
     "execution_count": 27,
     "metadata": {},
     "output_type": "execute_result"
    }
   ],
   "source": [
    "sales_series.dropna()"
   ]
  },
  {
   "cell_type": "code",
   "execution_count": 28,
   "id": "0cfe100f",
   "metadata": {},
   "outputs": [
    {
     "data": {
      "text/plain": [
       "0     0\n",
       "1    19\n",
       "2    21\n",
       "3    23\n",
       "4     0\n",
       "5    71\n",
       "Name: sales2, dtype: Int16"
      ]
     },
     "execution_count": 28,
     "metadata": {},
     "output_type": "execute_result"
    }
   ],
   "source": [
    "sales_series2.fillna(0)"
   ]
  },
  {
   "cell_type": "code",
   "execution_count": null,
   "id": "1e34e4f9",
   "metadata": {},
   "outputs": [],
   "source": []
  }
 ],
 "metadata": {
  "kernelspec": {
   "display_name": "Python 3 (ipykernel)",
   "language": "python",
   "name": "python3"
  },
  "language_info": {
   "codemirror_mode": {
    "name": "ipython",
    "version": 3
   },
   "file_extension": ".py",
   "mimetype": "text/x-python",
   "name": "python",
   "nbconvert_exporter": "python",
   "pygments_lexer": "ipython3",
   "version": "3.10.9"
  }
 },
 "nbformat": 4,
 "nbformat_minor": 5
}
