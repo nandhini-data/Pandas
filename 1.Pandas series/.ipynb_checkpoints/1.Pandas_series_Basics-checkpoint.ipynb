{
 "cells": [
  {
   "cell_type": "markdown",
   "id": "6cc666ca",
   "metadata": {},
   "source": [
    "# <center>Pandas Series</center>"
   ]
  },
  {
   "cell_type": "markdown",
   "id": "acf84dee",
   "metadata": {},
   "source": [
    "* [<span style='color:purple'>Series Properties](#Series-Properties)\n",
    "* [<span style='color:purple'>Pandas Datatype and Type conversion](#Pandas-Datatype-and-Type-conversion)\n",
    "    "
   ]
  },
  {
   "cell_type": "markdown",
   "id": "4fc1ef3c",
   "metadata": {},
   "source": [
    "Series are pandas data structure built on top of NumPy arrays.\n",
    "* Series also contain an index and an optional name,in addition to array of data.\n",
    "* Two or more series can grouped together form a Pandas DataFrame."
   ]
  },
  {
   "cell_type": "code",
   "execution_count": 11,
   "id": "275e760c",
   "metadata": {},
   "outputs": [],
   "source": [
    "import numpy as np\n",
    "import pandas as pd\n"
   ]
  },
  {
   "cell_type": "code",
   "execution_count": 12,
   "id": "a97d94a1",
   "metadata": {},
   "outputs": [],
   "source": [
    "sales =[10,29,30,40,76,54,34,56,78,90,100]\n",
    "\n",
    "sales_series =pd.Series(sales)"
   ]
  },
  {
   "cell_type": "code",
   "execution_count": 13,
   "id": "aefbc589",
   "metadata": {},
   "outputs": [
    {
     "data": {
      "text/plain": [
       "0      10\n",
       "1      29\n",
       "2      30\n",
       "3      40\n",
       "4      76\n",
       "5      54\n",
       "6      34\n",
       "7      56\n",
       "8      78\n",
       "9      90\n",
       "10    100\n",
       "dtype: int64"
      ]
     },
     "execution_count": 13,
     "metadata": {},
     "output_type": "execute_result"
    }
   ],
   "source": [
    "sales_series"
   ]
  },
  {
   "cell_type": "markdown",
   "id": "e2eef9c0",
   "metadata": {},
   "source": [
    "## Series Properties"
   ]
  },
  {
   "cell_type": "markdown",
   "id": "277c58f0",
   "metadata": {},
   "source": [
    "Pandas series have these key properties:\n",
    "* Values - the data array in the series.\n",
    "* index - the index array in the series.\n",
    "* name - the optional name for the series.\n",
    "* dtype - the data type of element in the value array."
   ]
  },
  {
   "cell_type": "code",
   "execution_count": 14,
   "id": "439905a7",
   "metadata": {},
   "outputs": [
    {
     "data": {
      "text/plain": [
       "array([ 10,  29,  30,  40,  76,  54,  34,  56,  78,  90, 100], dtype=int64)"
      ]
     },
     "execution_count": 14,
     "metadata": {},
     "output_type": "execute_result"
    }
   ],
   "source": [
    "sales_series.values"
   ]
  },
  {
   "cell_type": "code",
   "execution_count": 15,
   "id": "f283c9b1",
   "metadata": {},
   "outputs": [
    {
     "data": {
      "text/plain": [
       "RangeIndex(start=0, stop=11, step=1)"
      ]
     },
     "execution_count": 15,
     "metadata": {},
     "output_type": "execute_result"
    }
   ],
   "source": [
    "sales_series.index"
   ]
  },
  {
   "cell_type": "code",
   "execution_count": 16,
   "id": "0838a8e4",
   "metadata": {},
   "outputs": [
    {
     "data": {
      "text/plain": [
       "0      10\n",
       "1      29\n",
       "2      30\n",
       "3      40\n",
       "4      76\n",
       "5      54\n",
       "6      34\n",
       "7      56\n",
       "8      78\n",
       "9      90\n",
       "10    100\n",
       "dtype: int64"
      ]
     },
     "execution_count": 16,
     "metadata": {},
     "output_type": "execute_result"
    }
   ],
   "source": [
    "sales_series"
   ]
  },
  {
   "cell_type": "code",
   "execution_count": 17,
   "id": "f88b71b1",
   "metadata": {},
   "outputs": [
    {
     "data": {
      "text/plain": [
       "dtype('int64')"
      ]
     },
     "execution_count": 17,
     "metadata": {},
     "output_type": "execute_result"
    }
   ],
   "source": [
    "sales_series.dtype"
   ]
  },
  {
   "cell_type": "code",
   "execution_count": 22,
   "id": "9bad3c5e",
   "metadata": {},
   "outputs": [],
   "source": [
    "number_series = pd.Series(range(10,100,5),name='number')"
   ]
  },
  {
   "cell_type": "code",
   "execution_count": 23,
   "id": "173be90a",
   "metadata": {},
   "outputs": [
    {
     "data": {
      "text/plain": [
       "0     10\n",
       "1     15\n",
       "2     20\n",
       "3     25\n",
       "4     30\n",
       "5     35\n",
       "6     40\n",
       "7     45\n",
       "8     50\n",
       "9     55\n",
       "10    60\n",
       "11    65\n",
       "12    70\n",
       "13    75\n",
       "14    80\n",
       "15    85\n",
       "16    90\n",
       "17    95\n",
       "Name: number, dtype: int64"
      ]
     },
     "execution_count": 23,
     "metadata": {},
     "output_type": "execute_result"
    }
   ],
   "source": [
    "number_series"
   ]
  },
  {
   "cell_type": "code",
   "execution_count": 24,
   "id": "c118e73a",
   "metadata": {},
   "outputs": [
    {
     "data": {
      "text/plain": [
       "'number'"
      ]
     },
     "execution_count": 24,
     "metadata": {},
     "output_type": "execute_result"
    }
   ],
   "source": [
    "number_series.name"
   ]
  },
  {
   "cell_type": "code",
   "execution_count": 25,
   "id": "0f415dc4",
   "metadata": {},
   "outputs": [
    {
     "data": {
      "text/plain": [
       "dtype('int64')"
      ]
     },
     "execution_count": 25,
     "metadata": {},
     "output_type": "execute_result"
    }
   ],
   "source": [
    "number_series.dtype"
   ]
  },
  {
   "cell_type": "code",
   "execution_count": 26,
   "id": "49ae2917",
   "metadata": {},
   "outputs": [
    {
     "data": {
      "text/plain": [
       "array([10, 15, 20, 25, 30, 35, 40, 45, 50, 55, 60, 65, 70, 75, 80, 85, 90,\n",
       "       95], dtype=int64)"
      ]
     },
     "execution_count": 26,
     "metadata": {},
     "output_type": "execute_result"
    }
   ],
   "source": [
    "number_series.values"
   ]
  },
  {
   "cell_type": "markdown",
   "id": "310abd47",
   "metadata": {},
   "source": [
    "## Pandas Datatype and Type conversion"
   ]
  },
  {
   "cell_type": "markdown",
   "id": "644ed69e",
   "metadata": {},
   "source": [
    "Pandas datatype mostly expand on the base python and numpy.\n",
    "* boolean - Nullable Boolean true/false.\n",
    "* int64 - Nullable whole numbers.\n",
    "* float64 -Nullable decimal numbers.\n",
    "* String -Only contain strings or text.\n",
    "* Category -maps categorical data to numeric array.\n"
   ]
  },
  {
   "cell_type": "code",
   "execution_count": 28,
   "id": "b0b7c673",
   "metadata": {},
   "outputs": [
    {
     "data": {
      "text/plain": [
       "0     10.0\n",
       "1     15.0\n",
       "2     20.0\n",
       "3     25.0\n",
       "4     30.0\n",
       "5     35.0\n",
       "6     40.0\n",
       "7     45.0\n",
       "8     50.0\n",
       "9     55.0\n",
       "10    60.0\n",
       "11    65.0\n",
       "12    70.0\n",
       "13    75.0\n",
       "14    80.0\n",
       "15    85.0\n",
       "16    90.0\n",
       "17    95.0\n",
       "Name: number, dtype: float64"
      ]
     },
     "execution_count": 28,
     "metadata": {},
     "output_type": "execute_result"
    }
   ],
   "source": [
    "#you can convert data type in a pandas series by using .astype() method\n",
    "number_series.astype(\"float\")"
   ]
  },
  {
   "cell_type": "code",
   "execution_count": null,
   "id": "0f5ddb71",
   "metadata": {},
   "outputs": [],
   "source": []
  }
 ],
 "metadata": {
  "kernelspec": {
   "display_name": "Python 3 (ipykernel)",
   "language": "python",
   "name": "python3"
  },
  "language_info": {
   "codemirror_mode": {
    "name": "ipython",
    "version": 3
   },
   "file_extension": ".py",
   "mimetype": "text/x-python",
   "name": "python",
   "nbconvert_exporter": "python",
   "pygments_lexer": "ipython3",
   "version": "3.10.9"
  }
 },
 "nbformat": 4,
 "nbformat_minor": 5
}
