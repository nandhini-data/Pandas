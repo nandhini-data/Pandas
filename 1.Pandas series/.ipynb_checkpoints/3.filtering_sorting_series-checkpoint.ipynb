{
 "cells": [
  {
   "cell_type": "markdown",
   "id": "a998641f",
   "metadata": {},
   "source": [
    "# <center>Filtering and Sorting series</center>"
   ]
  },
  {
   "cell_type": "markdown",
   "id": "51ca4179",
   "metadata": {},
   "source": [
    "You can filter a series by passing a logical test into the .loc[] accessor"
   ]
  },
  {
   "cell_type": "code",
   "execution_count": 2,
   "id": "d593e607",
   "metadata": {},
   "outputs": [],
   "source": [
    "import numpy as np\n",
    "import pandas as pd\n",
    "sales_series =pd.Series([10,30,50,39,29,199])"
   ]
  },
  {
   "cell_type": "code",
   "execution_count": 3,
   "id": "a1972db0",
   "metadata": {},
   "outputs": [
    {
     "data": {
      "text/plain": [
       "0     10\n",
       "1     30\n",
       "2     50\n",
       "3     39\n",
       "4     29\n",
       "5    199\n",
       "dtype: int64"
      ]
     },
     "execution_count": 3,
     "metadata": {},
     "output_type": "execute_result"
    }
   ],
   "source": [
    "sales_series"
   ]
  },
  {
   "cell_type": "code",
   "execution_count": 4,
   "id": "1b63e436",
   "metadata": {},
   "outputs": [
    {
     "data": {
      "text/plain": [
       "5    199\n",
       "dtype: int64"
      ]
     },
     "execution_count": 4,
     "metadata": {},
     "output_type": "execute_result"
    }
   ],
   "source": [
    "sales_series.loc[sales_series>100]"
   ]
  },
  {
   "cell_type": "code",
   "execution_count": 6,
   "id": "2ec31683",
   "metadata": {},
   "outputs": [
    {
     "data": {
      "text/plain": [
       "1     30\n",
       "2     50\n",
       "3     39\n",
       "4     29\n",
       "5    199\n",
       "dtype: int64"
      ]
     },
     "execution_count": 6,
     "metadata": {},
     "output_type": "execute_result"
    }
   ],
   "source": [
    "sales_series.loc[sales_series>20 ]"
   ]
  },
  {
   "cell_type": "code",
   "execution_count": 9,
   "id": "987839b7",
   "metadata": {},
   "outputs": [],
   "source": [
    "sales_series.index=['x','apple','banana','banana','ball','cat']"
   ]
  },
  {
   "cell_type": "code",
   "execution_count": 10,
   "id": "eaf428fc",
   "metadata": {},
   "outputs": [
    {
     "data": {
      "text/plain": [
       "x          10\n",
       "apple      30\n",
       "banana     50\n",
       "banana     39\n",
       "ball       29\n",
       "cat       199\n",
       "dtype: int64"
      ]
     },
     "execution_count": 10,
     "metadata": {},
     "output_type": "execute_result"
    }
   ],
   "source": [
    "sales_series"
   ]
  },
  {
   "cell_type": "code",
   "execution_count": 14,
   "id": "567bb799",
   "metadata": {},
   "outputs": [],
   "source": [
    "mask=(sales_series>40)&(sales_series.index=='banana')"
   ]
  },
  {
   "cell_type": "code",
   "execution_count": 15,
   "id": "c60e4fcd",
   "metadata": {},
   "outputs": [
    {
     "data": {
      "text/plain": [
       "banana    50\n",
       "dtype: int64"
      ]
     },
     "execution_count": 15,
     "metadata": {},
     "output_type": "execute_result"
    }
   ],
   "source": [
    "sales_series[mask]"
   ]
  },
  {
   "cell_type": "code",
   "execution_count": 16,
   "id": "d2e2e523",
   "metadata": {},
   "outputs": [
    {
     "data": {
      "text/plain": [
       "x          True\n",
       "apple     False\n",
       "banana    False\n",
       "banana    False\n",
       "ball      False\n",
       "cat       False\n",
       "dtype: bool"
      ]
     },
     "execution_count": 16,
     "metadata": {},
     "output_type": "execute_result"
    }
   ],
   "source": [
    "sales_series ==10"
   ]
  },
  {
   "cell_type": "code",
   "execution_count": 18,
   "id": "1fff18f7",
   "metadata": {},
   "outputs": [
    {
     "data": {
      "text/plain": [
       "array([False,  True, False, False, False, False])"
      ]
     },
     "execution_count": 18,
     "metadata": {},
     "output_type": "execute_result"
    }
   ],
   "source": [
    "sales_series.index.isin(['apple'])"
   ]
  },
  {
   "cell_type": "code",
   "execution_count": 19,
   "id": "afee5bd6",
   "metadata": {},
   "outputs": [
    {
     "data": {
      "text/plain": [
       "array([ True, False,  True,  True,  True,  True])"
      ]
     },
     "execution_count": 19,
     "metadata": {},
     "output_type": "execute_result"
    }
   ],
   "source": [
    "~sales_series.index.isin(['apple'])"
   ]
  },
  {
   "cell_type": "markdown",
   "id": "57b59c54",
   "metadata": {},
   "source": [
    ".sort_values() method sort a series by its values in ascending order"
   ]
  },
  {
   "cell_type": "code",
   "execution_count": 21,
   "id": "b4e7207c",
   "metadata": {},
   "outputs": [
    {
     "data": {
      "text/plain": [
       "x          10\n",
       "apple      30\n",
       "banana     50\n",
       "banana     39\n",
       "ball       29\n",
       "cat       199\n",
       "dtype: int64"
      ]
     },
     "execution_count": 21,
     "metadata": {},
     "output_type": "execute_result"
    }
   ],
   "source": [
    "sales_series"
   ]
  },
  {
   "cell_type": "code",
   "execution_count": 22,
   "id": "663b6a1c",
   "metadata": {},
   "outputs": [
    {
     "data": {
      "text/plain": [
       "x          10\n",
       "ball       29\n",
       "apple      30\n",
       "banana     39\n",
       "banana     50\n",
       "cat       199\n",
       "dtype: int64"
      ]
     },
     "execution_count": 22,
     "metadata": {},
     "output_type": "execute_result"
    }
   ],
   "source": [
    "sales_series.sort_values()"
   ]
  },
  {
   "cell_type": "code",
   "execution_count": 23,
   "id": "74bffcba",
   "metadata": {},
   "outputs": [
    {
     "data": {
      "text/plain": [
       "apple      30\n",
       "ball       29\n",
       "banana     50\n",
       "banana     39\n",
       "cat       199\n",
       "x          10\n",
       "dtype: int64"
      ]
     },
     "execution_count": 23,
     "metadata": {},
     "output_type": "execute_result"
    }
   ],
   "source": [
    "sales_series.sort_index()"
   ]
  },
  {
   "cell_type": "code",
   "execution_count": 24,
   "id": "83750701",
   "metadata": {},
   "outputs": [
    {
     "data": {
      "text/plain": [
       "cat       199\n",
       "banana     50\n",
       "banana     39\n",
       "apple      30\n",
       "ball       29\n",
       "x          10\n",
       "dtype: int64"
      ]
     },
     "execution_count": 24,
     "metadata": {},
     "output_type": "execute_result"
    }
   ],
   "source": [
    "sales_series.sort_values(ascending=False)"
   ]
  },
  {
   "cell_type": "code",
   "execution_count": null,
   "id": "938d90d8",
   "metadata": {},
   "outputs": [],
   "source": []
  }
 ],
 "metadata": {
  "kernelspec": {
   "display_name": "Python 3 (ipykernel)",
   "language": "python",
   "name": "python3"
  },
  "language_info": {
   "codemirror_mode": {
    "name": "ipython",
    "version": 3
   },
   "file_extension": ".py",
   "mimetype": "text/x-python",
   "name": "python",
   "nbconvert_exporter": "python",
   "pygments_lexer": "ipython3",
   "version": "3.10.9"
  }
 },
 "nbformat": 4,
 "nbformat_minor": 5
}
