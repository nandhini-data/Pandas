{
 "cells": [
  {
   "cell_type": "markdown",
   "id": "cc35fa8d",
   "metadata": {},
   "source": [
    "# <center>Applying custom functions</center>"
   ]
  },
  {
   "cell_type": "code",
   "execution_count": 1,
   "id": "c31cc6ce",
   "metadata": {},
   "outputs": [],
   "source": [
    "import pandas as pd\n",
    "import numpy as np\n"
   ]
  },
  {
   "cell_type": "code",
   "execution_count": 5,
   "id": "9969463f",
   "metadata": {},
   "outputs": [],
   "source": [
    "string_series =pd.Series(['Day 0','Day 2','Day 2','Day 3','Day 4'])"
   ]
  },
  {
   "cell_type": "code",
   "execution_count": 6,
   "id": "004c5a72",
   "metadata": {},
   "outputs": [
    {
     "data": {
      "text/plain": [
       "0    Day 0\n",
       "1    Day 2\n",
       "2    Day 2\n",
       "3    Day 3\n",
       "4    Day 4\n",
       "dtype: object"
      ]
     },
     "execution_count": 6,
     "metadata": {},
     "output_type": "execute_result"
    }
   ],
   "source": [
    "string_series"
   ]
  },
  {
   "cell_type": "code",
   "execution_count": 7,
   "id": "f3fc866d",
   "metadata": {},
   "outputs": [
    {
     "data": {
      "text/plain": [
       "0    0\n",
       "1    2\n",
       "2    2\n",
       "3    3\n",
       "4    4\n",
       "dtype: object"
      ]
     },
     "execution_count": 7,
     "metadata": {},
     "output_type": "execute_result"
    }
   ],
   "source": [
    "#to grab the last element of  series\n",
    "string_series.str[-1]"
   ]
  },
  {
   "cell_type": "code",
   "execution_count": 8,
   "id": "ee5b90bb",
   "metadata": {},
   "outputs": [],
   "source": [
    "def search(string,looking):\n",
    "    if looking in string:\n",
    "        return \"found\"\n",
    "    return \"not found\""
   ]
  },
  {
   "cell_type": "code",
   "execution_count": 11,
   "id": "2cf7cc7d",
   "metadata": {},
   "outputs": [
    {
     "data": {
      "text/plain": [
       "0    not found\n",
       "1        found\n",
       "2        found\n",
       "3    not found\n",
       "4    not found\n",
       "dtype: object"
      ]
     },
     "execution_count": 11,
     "metadata": {},
     "output_type": "execute_result"
    }
   ],
   "source": [
    "string_series.apply(search,args='2')"
   ]
  },
  {
   "cell_type": "code",
   "execution_count": 12,
   "id": "cec12c23",
   "metadata": {},
   "outputs": [],
   "source": [
    "sales_series =pd.Series([18,21,32,44,10])"
   ]
  },
  {
   "cell_type": "code",
   "execution_count": 13,
   "id": "7e27fd46",
   "metadata": {},
   "outputs": [
    {
     "data": {
      "text/plain": [
       "0    18\n",
       "1    21\n",
       "2    32\n",
       "3    44\n",
       "4    10\n",
       "dtype: int64"
      ]
     },
     "execution_count": 13,
     "metadata": {},
     "output_type": "execute_result"
    }
   ],
   "source": [
    "sales_series"
   ]
  },
  {
   "cell_type": "code",
   "execution_count": 16,
   "id": "43733588",
   "metadata": {},
   "outputs": [
    {
     "data": {
      "text/plain": [
       "0    18.0\n",
       "1    18.9\n",
       "2    28.8\n",
       "3    39.6\n",
       "4    10.0\n",
       "dtype: float64"
      ]
     },
     "execution_count": 16,
     "metadata": {},
     "output_type": "execute_result"
    }
   ],
   "source": [
    "# apply 10 % discount to the sales series if the value is greater than 20\n",
    "sales_series.apply(lambda x:x * 0.9 if x >20 else x)"
   ]
  },
  {
   "cell_type": "markdown",
   "id": "c47cb894",
   "metadata": {},
   "source": [
    "### Note:\n",
    "<span style=\"color:purple\">1.Pandas series add an **index & title** to numpy arrays.<br>\n",
    "2.The **.loc() and .iloc()** methods are key in working with pandas data structure.<br>\n",
    "3.Pandas and Numpy have **similar operations** for filtering,sorting and aggregating.<br>\n",
    "4.Pandas let you easily **handle the missing data**.</span>"
   ]
  },
  {
   "cell_type": "code",
   "execution_count": null,
   "id": "39164b7c",
   "metadata": {},
   "outputs": [],
   "source": []
  }
 ],
 "metadata": {
  "kernelspec": {
   "display_name": "Python 3 (ipykernel)",
   "language": "python",
   "name": "python3"
  },
  "language_info": {
   "codemirror_mode": {
    "name": "ipython",
    "version": 3
   },
   "file_extension": ".py",
   "mimetype": "text/x-python",
   "name": "python",
   "nbconvert_exporter": "python",
   "pygments_lexer": "ipython3",
   "version": "3.10.9"
  }
 },
 "nbformat": 4,
 "nbformat_minor": 5
}
