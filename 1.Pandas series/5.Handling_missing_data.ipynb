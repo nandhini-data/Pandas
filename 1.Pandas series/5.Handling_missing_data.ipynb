{
 "cells": [
  {
   "cell_type": "markdown",
   "id": "1ebf688b",
   "metadata": {},
   "source": [
    "# <center>Handling missing data</center>"
   ]
  },
  {
   "cell_type": "code",
   "execution_count": 1,
   "id": "b0979df7",
   "metadata": {},
   "outputs": [],
   "source": [
    "import pandas as pd\n",
    "import numpy as np"
   ]
  },
  {
   "cell_type": "code",
   "execution_count": 2,
   "id": "9b5db3ab",
   "metadata": {},
   "outputs": [],
   "source": [
    "sales_data =[9,10,12,31,np.nan,49]"
   ]
  },
  {
   "cell_type": "code",
   "execution_count": 3,
   "id": "b5585631",
   "metadata": {},
   "outputs": [],
   "source": [
    "sales_series =pd.Series(sales_data,name='sales')"
   ]
  },
  {
   "cell_type": "code",
   "execution_count": 4,
   "id": "32c4fec5",
   "metadata": {},
   "outputs": [
    {
     "data": {
      "text/plain": [
       "0     9.0\n",
       "1    10.0\n",
       "2    12.0\n",
       "3    31.0\n",
       "4     NaN\n",
       "5    49.0\n",
       "Name: sales, dtype: float64"
      ]
     },
     "execution_count": 4,
     "metadata": {},
     "output_type": "execute_result"
    }
   ],
   "source": [
    "sales_series"
   ]
  },
  {
   "cell_type": "code",
   "execution_count": 5,
   "id": "d2c59f74",
   "metadata": {},
   "outputs": [
    {
     "data": {
      "text/plain": [
       "0    19.0\n",
       "1    20.0\n",
       "2    22.0\n",
       "3    41.0\n",
       "4     NaN\n",
       "5    59.0\n",
       "Name: sales, dtype: float64"
      ]
     },
     "execution_count": 5,
     "metadata": {},
     "output_type": "execute_result"
    }
   ],
   "source": [
    "sales_series + 10"
   ]
  },
  {
   "cell_type": "code",
   "execution_count": 6,
   "id": "9d3c56f6",
   "metadata": {},
   "outputs": [
    {
     "data": {
      "text/plain": [
       "0    19.0\n",
       "1    20.0\n",
       "2    22.0\n",
       "3    41.0\n",
       "4    10.0\n",
       "5    59.0\n",
       "Name: sales, dtype: float64"
      ]
     },
     "execution_count": 6,
     "metadata": {},
     "output_type": "execute_result"
    }
   ],
   "source": [
    "sales_series.add(10,fill_value =0)"
   ]
  },
  {
   "cell_type": "code",
   "execution_count": 7,
   "id": "6a95282a",
   "metadata": {},
   "outputs": [],
   "source": [
    "sales =[0,19,21,23,pd.NA,71]"
   ]
  },
  {
   "cell_type": "code",
   "execution_count": 14,
   "id": "0232609b",
   "metadata": {},
   "outputs": [],
   "source": [
    "sales_series2 =pd.Series(sales,name='sales2',dtype='Int16')"
   ]
  },
  {
   "cell_type": "code",
   "execution_count": 16,
   "id": "1d8eacc5",
   "metadata": {},
   "outputs": [
    {
     "data": {
      "text/plain": [
       "0       0\n",
       "1      19\n",
       "2      21\n",
       "3      23\n",
       "4    <NA>\n",
       "5      71\n",
       "Name: sales2, dtype: Int16"
      ]
     },
     "execution_count": 16,
     "metadata": {},
     "output_type": "execute_result"
    }
   ],
   "source": [
    "sales_series2"
   ]
  },
  {
   "cell_type": "code",
   "execution_count": 18,
   "id": "15d26353",
   "metadata": {},
   "outputs": [
    {
     "data": {
      "text/plain": [
       "0    False\n",
       "1    False\n",
       "2    False\n",
       "3    False\n",
       "4     True\n",
       "5    False\n",
       "Name: sales2, dtype: bool"
      ]
     },
     "execution_count": 18,
     "metadata": {},
     "output_type": "execute_result"
    }
   ],
   "source": [
    "sales_series2.isna()"
   ]
  },
  {
   "cell_type": "code",
   "execution_count": 19,
   "id": "2d98af1e",
   "metadata": {},
   "outputs": [
    {
     "data": {
      "text/plain": [
       "1"
      ]
     },
     "execution_count": 19,
     "metadata": {},
     "output_type": "execute_result"
    }
   ],
   "source": [
    "# isna().sum() return the sum of nan values\n",
    "\n",
    "sales_series.isna().sum()"
   ]
  },
  {
   "cell_type": "code",
   "execution_count": 22,
   "id": "82cef3b0",
   "metadata": {},
   "outputs": [
    {
     "data": {
      "text/plain": [
       "0       1\n",
       "19      1\n",
       "21      1\n",
       "23      1\n",
       "71      1\n",
       "<NA>    1\n",
       "Name: sales2, dtype: Int64"
      ]
     },
     "execution_count": 22,
     "metadata": {},
     "output_type": "execute_result"
    }
   ],
   "source": [
    "sales_series2.value_counts(dropna =False)"
   ]
  },
  {
   "cell_type": "code",
   "execution_count": 27,
   "id": "c0da9017",
   "metadata": {},
   "outputs": [
    {
     "data": {
      "text/plain": [
       "0     9.0\n",
       "1    10.0\n",
       "2    12.0\n",
       "3    31.0\n",
       "5    49.0\n",
       "Name: sales, dtype: float64"
      ]
     },
     "execution_count": 27,
     "metadata": {},
     "output_type": "execute_result"
    }
   ],
   "source": [
    "sales_series.dropna()"
   ]
  },
  {
   "cell_type": "code",
   "execution_count": 28,
   "id": "806f03b3",
   "metadata": {},
   "outputs": [
    {
     "data": {
      "text/plain": [
       "0     0\n",
       "1    19\n",
       "2    21\n",
       "3    23\n",
       "4     0\n",
       "5    71\n",
       "Name: sales2, dtype: Int16"
      ]
     },
     "execution_count": 28,
     "metadata": {},
     "output_type": "execute_result"
    }
   ],
   "source": [
    "sales_series2.fillna(0)"
   ]
  },
  {
   "cell_type": "code",
   "execution_count": 29,
   "id": "b935dcb3",
   "metadata": {},
   "outputs": [],
   "source": [
    "my_series =pd.Series(range(5))"
   ]
  },
  {
   "cell_type": "code",
   "execution_count": 32,
   "id": "f504e233",
   "metadata": {},
   "outputs": [],
   "source": [
    "my_series.iloc[1:2]=pd.NA"
   ]
  },
  {
   "cell_type": "code",
   "execution_count": 37,
   "id": "9ca315ef",
   "metadata": {},
   "outputs": [
    {
     "data": {
      "text/plain": [
       "0    0.0\n",
       "1    NaN\n",
       "2    NaN\n",
       "3    3.0\n",
       "4    4.0\n",
       "dtype: float64"
      ]
     },
     "execution_count": 37,
     "metadata": {},
     "output_type": "execute_result"
    }
   ],
   "source": [
    "my_series"
   ]
  },
  {
   "cell_type": "code",
   "execution_count": 36,
   "id": "391fb0e3",
   "metadata": {},
   "outputs": [
    {
     "data": {
      "text/plain": [
       "0    0.00\n",
       "1    2.33\n",
       "2    2.33\n",
       "3    3.00\n",
       "4    4.00\n",
       "dtype: float64"
      ]
     },
     "execution_count": 36,
     "metadata": {},
     "output_type": "execute_result"
    }
   ],
   "source": [
    "my_series.fillna(my_series.mean().round(2))"
   ]
  },
  {
   "cell_type": "code",
   "execution_count": 38,
   "id": "17b3c825",
   "metadata": {},
   "outputs": [
    {
     "data": {
      "text/plain": [
       "0    0.0\n",
       "1    NaN\n",
       "2    NaN\n",
       "3    3.0\n",
       "4    4.0\n",
       "dtype: float64"
      ]
     },
     "execution_count": 38,
     "metadata": {},
     "output_type": "execute_result"
    }
   ],
   "source": [
    "my_series"
   ]
  },
  {
   "cell_type": "code",
   "execution_count": 41,
   "id": "1987e44e",
   "metadata": {},
   "outputs": [
    {
     "data": {
      "text/plain": [
       "0    0.0\n",
       "3    3.0\n",
       "4    4.0\n",
       "dtype: float64"
      ]
     },
     "execution_count": 41,
     "metadata": {},
     "output_type": "execute_result"
    }
   ],
   "source": [
    "my_series.dropna()"
   ]
  },
  {
   "cell_type": "code",
   "execution_count": 42,
   "id": "a56cbcb3",
   "metadata": {},
   "outputs": [
    {
     "data": {
      "text/plain": [
       "0    0.0\n",
       "1    3.0\n",
       "2    4.0\n",
       "dtype: float64"
      ]
     },
     "execution_count": 42,
     "metadata": {},
     "output_type": "execute_result"
    }
   ],
   "source": [
    "my_series.dropna().reset_index(drop=True)"
   ]
  },
  {
   "cell_type": "code",
   "execution_count": null,
   "id": "d0259e82",
   "metadata": {},
   "outputs": [],
   "source": []
  }
 ],
 "metadata": {
  "kernelspec": {
   "display_name": "Python 3 (ipykernel)",
   "language": "python",
   "name": "python3"
  },
  "language_info": {
   "codemirror_mode": {
    "name": "ipython",
    "version": 3
   },
   "file_extension": ".py",
   "mimetype": "text/x-python",
   "name": "python",
   "nbconvert_exporter": "python",
   "pygments_lexer": "ipython3",
   "version": "3.10.9"
  }
 },
 "nbformat": 4,
 "nbformat_minor": 5
}
