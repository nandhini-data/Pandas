{
 "cells": [
  {
   "cell_type": "markdown",
   "id": "24be1a2a",
   "metadata": {},
   "source": [
    "# <center>Operation and Aggregation</center>\n",
    "\n",
    "* [<span style='color:purple'>Numerical series operation](#Numerical-series-operation)\n",
    "* [<span style='color:purple'>Text series operations](#Text-series-operations)\n",
    "* [<span style='color:purple'>Numerical series aggregation](#Numerical-series-aggregation)\n",
    "* [<span style='color:purple'>Categorical series aggregation](#Categorical-series-aggregation)"
   ]
  },
  {
   "cell_type": "markdown",
   "id": "96e0a120",
   "metadata": {},
   "source": [
    "You can use operators and methods to perform numeric operation in series."
   ]
  },
  {
   "cell_type": "code",
   "execution_count": 1,
   "id": "3ba8161e",
   "metadata": {},
   "outputs": [],
   "source": [
    "import pandas as pd\n",
    "import numpy as np"
   ]
  },
  {
   "cell_type": "markdown",
   "id": "dc5abdf3",
   "metadata": {},
   "source": [
    "## Numerical series operation"
   ]
  },
  {
   "cell_type": "code",
   "execution_count": 4,
   "id": "481c0d3c",
   "metadata": {},
   "outputs": [],
   "source": [
    "saturday_sales =pd.Series(range(10,100,12))"
   ]
  },
  {
   "cell_type": "code",
   "execution_count": 5,
   "id": "96ec3948",
   "metadata": {},
   "outputs": [
    {
     "data": {
      "text/plain": [
       "0    10\n",
       "1    22\n",
       "2    34\n",
       "3    46\n",
       "4    58\n",
       "5    70\n",
       "6    82\n",
       "7    94\n",
       "dtype: int64"
      ]
     },
     "execution_count": 5,
     "metadata": {},
     "output_type": "execute_result"
    }
   ],
   "source": [
    "saturday_sales"
   ]
  },
  {
   "cell_type": "code",
   "execution_count": 6,
   "id": "a614ea4f",
   "metadata": {},
   "outputs": [
    {
     "data": {
      "text/plain": [
       "0     20\n",
       "1     44\n",
       "2     68\n",
       "3     92\n",
       "4    116\n",
       "5    140\n",
       "6    164\n",
       "7    188\n",
       "dtype: int64"
      ]
     },
     "execution_count": 6,
     "metadata": {},
     "output_type": "execute_result"
    }
   ],
   "source": [
    "saturday_sales *2"
   ]
  },
  {
   "cell_type": "code",
   "execution_count": 30,
   "id": "7d457411",
   "metadata": {},
   "outputs": [],
   "source": [
    "dollar_monday ='$'+ monday_sales.astype(\"float\").astype(\"string\")"
   ]
  },
  {
   "cell_type": "code",
   "execution_count": 10,
   "id": "0b8fa7e5",
   "metadata": {},
   "outputs": [],
   "source": [
    "series_number = pd.Series([1,3,np.NAN],index =['day1','day2','day3'])"
   ]
  },
  {
   "cell_type": "code",
   "execution_count": 11,
   "id": "20f6564c",
   "metadata": {},
   "outputs": [
    {
     "data": {
      "text/plain": [
       "day1    1.0\n",
       "day2    3.0\n",
       "day3    NaN\n",
       "dtype: float64"
      ]
     },
     "execution_count": 11,
     "metadata": {},
     "output_type": "execute_result"
    }
   ],
   "source": [
    "series_number"
   ]
  },
  {
   "cell_type": "code",
   "execution_count": 12,
   "id": "c741f664",
   "metadata": {},
   "outputs": [
    {
     "data": {
      "text/plain": [
       "day1     4.0\n",
       "day2    12.0\n",
       "day3     NaN\n",
       "dtype: float64"
      ]
     },
     "execution_count": 12,
     "metadata": {},
     "output_type": "execute_result"
    }
   ],
   "source": [
    "series_number *4"
   ]
  },
  {
   "cell_type": "code",
   "execution_count": 22,
   "id": "4480c588",
   "metadata": {},
   "outputs": [],
   "source": [
    "mean = series_number.mean()"
   ]
  },
  {
   "cell_type": "code",
   "execution_count": 24,
   "id": "1180b2d9",
   "metadata": {},
   "outputs": [],
   "source": [
    "\n",
    "series2 = series_number.mul(4,fill_value=mean)"
   ]
  },
  {
   "cell_type": "code",
   "execution_count": 25,
   "id": "c2872dc2",
   "metadata": {},
   "outputs": [
    {
     "data": {
      "text/plain": [
       "day1     4.0\n",
       "day2    12.0\n",
       "day3     8.0\n",
       "dtype: float64"
      ]
     },
     "execution_count": 25,
     "metadata": {},
     "output_type": "execute_result"
    }
   ],
   "source": [
    "series2"
   ]
  },
  {
   "cell_type": "code",
   "execution_count": 26,
   "id": "3b70ab13",
   "metadata": {},
   "outputs": [
    {
     "data": {
      "text/plain": [
       "day1    2.0\n",
       "day2    6.0\n",
       "day3    4.0\n",
       "dtype: float64"
      ]
     },
     "execution_count": 26,
     "metadata": {},
     "output_type": "execute_result"
    }
   ],
   "source": [
    "series2/2"
   ]
  },
  {
   "cell_type": "code",
   "execution_count": 28,
   "id": "2f2b2033",
   "metadata": {},
   "outputs": [
    {
     "data": {
      "text/plain": [
       "day1     5.0\n",
       "day2    15.0\n",
       "day3     NaN\n",
       "dtype: float64"
      ]
     },
     "execution_count": 28,
     "metadata": {},
     "output_type": "execute_result"
    }
   ],
   "source": [
    "#we can add two series together\n",
    "series_number + series2"
   ]
  },
  {
   "cell_type": "markdown",
   "id": "139f8e23",
   "metadata": {},
   "source": [
    "## Text series operations\n",
    "\n",
    "Pandas str accessor let you access many string method. Some of string methods are:\n",
    "* .strip(),.lstrip(),.rstrip()\n",
    "* .upper(),.lower()\n",
    "* .slice(start:stop:slice)\n",
    "* .count()"
   ]
  },
  {
   "cell_type": "code",
   "execution_count": 31,
   "id": "dce17d7b",
   "metadata": {},
   "outputs": [
    {
     "data": {
      "text/plain": [
       "0    $10.0\n",
       "1    $22.0\n",
       "2    $34.0\n",
       "3    $46.0\n",
       "4    $58.0\n",
       "5    $70.0\n",
       "6    $82.0\n",
       "7    $94.0\n",
       "dtype: string"
      ]
     },
     "execution_count": 31,
     "metadata": {},
     "output_type": "execute_result"
    }
   ],
   "source": [
    "dollar_monday"
   ]
  },
  {
   "cell_type": "code",
   "execution_count": 32,
   "id": "d0eb7bf8",
   "metadata": {},
   "outputs": [
    {
     "data": {
      "text/plain": [
       "0    10.0\n",
       "1    22.0\n",
       "2    34.0\n",
       "3    46.0\n",
       "4    58.0\n",
       "5    70.0\n",
       "6    82.0\n",
       "7    94.0\n",
       "dtype: float64"
      ]
     },
     "execution_count": 32,
     "metadata": {},
     "output_type": "execute_result"
    }
   ],
   "source": [
    "dollar_monday.str.strip(\"$\").astype(\"float\")"
   ]
  },
  {
   "cell_type": "code",
   "execution_count": 33,
   "id": "c6a2f76d",
   "metadata": {},
   "outputs": [
    {
     "data": {
      "text/plain": [
       "day1    1.0\n",
       "day2    3.0\n",
       "day3    NaN\n",
       "dtype: float64"
      ]
     },
     "execution_count": 33,
     "metadata": {},
     "output_type": "execute_result"
    }
   ],
   "source": [
    "series_number\n"
   ]
  },
  {
   "cell_type": "code",
   "execution_count": 41,
   "id": "466a6fa8",
   "metadata": {},
   "outputs": [],
   "source": [
    "string_series = pd.Series(['monday','tuesday','thursday','friday'])"
   ]
  },
  {
   "cell_type": "code",
   "execution_count": 42,
   "id": "d2e5e93a",
   "metadata": {},
   "outputs": [
    {
     "data": {
      "text/plain": [
       "0      monday\n",
       "1     tuesday\n",
       "2    thursday\n",
       "3      friday\n",
       "dtype: object"
      ]
     },
     "execution_count": 42,
     "metadata": {},
     "output_type": "execute_result"
    }
   ],
   "source": [
    "string_series"
   ]
  },
  {
   "cell_type": "code",
   "execution_count": 50,
   "id": "1ed12132",
   "metadata": {},
   "outputs": [
    {
     "data": {
      "text/plain": [
       "0      mon\n",
       "1     tues\n",
       "2    thurs\n",
       "3      fri\n",
       "dtype: object"
      ]
     },
     "execution_count": 50,
     "metadata": {},
     "output_type": "execute_result"
    }
   ],
   "source": [
    "x =string_series.str.strip('day')\n",
    "x"
   ]
  },
  {
   "cell_type": "code",
   "execution_count": 49,
   "id": "5ff97434",
   "metadata": {},
   "outputs": [
    {
     "data": {
      "text/plain": [
       "0      MON\n",
       "1     TUES\n",
       "2    THURS\n",
       "3      FRI\n",
       "dtype: object"
      ]
     },
     "execution_count": 49,
     "metadata": {},
     "output_type": "execute_result"
    }
   ],
   "source": [
    "x.str.upper()"
   ]
  },
  {
   "cell_type": "code",
   "execution_count": 52,
   "id": "d87df790",
   "metadata": {},
   "outputs": [],
   "source": [
    "string2 =pd.Series(['monday lunch','friday breakfast','saturday snacks'])"
   ]
  },
  {
   "cell_type": "code",
   "execution_count": 53,
   "id": "6e8c31d8",
   "metadata": {},
   "outputs": [
    {
     "data": {
      "text/plain": [
       "0        monday lunch\n",
       "1    friday breakfast\n",
       "2     saturday snacks\n",
       "dtype: object"
      ]
     },
     "execution_count": 53,
     "metadata": {},
     "output_type": "execute_result"
    }
   ],
   "source": [
    "string2"
   ]
  },
  {
   "cell_type": "code",
   "execution_count": 55,
   "id": "9936079c",
   "metadata": {},
   "outputs": [],
   "source": [
    "split_string2 = string2.str.split(\" \",expand=True)"
   ]
  },
  {
   "cell_type": "code",
   "execution_count": 56,
   "id": "21a82772",
   "metadata": {},
   "outputs": [
    {
     "data": {
      "text/html": [
       "<div>\n",
       "<style scoped>\n",
       "    .dataframe tbody tr th:only-of-type {\n",
       "        vertical-align: middle;\n",
       "    }\n",
       "\n",
       "    .dataframe tbody tr th {\n",
       "        vertical-align: top;\n",
       "    }\n",
       "\n",
       "    .dataframe thead th {\n",
       "        text-align: right;\n",
       "    }\n",
       "</style>\n",
       "<table border=\"1\" class=\"dataframe\">\n",
       "  <thead>\n",
       "    <tr style=\"text-align: right;\">\n",
       "      <th></th>\n",
       "      <th>0</th>\n",
       "      <th>1</th>\n",
       "    </tr>\n",
       "  </thead>\n",
       "  <tbody>\n",
       "    <tr>\n",
       "      <th>0</th>\n",
       "      <td>monday</td>\n",
       "      <td>lunch</td>\n",
       "    </tr>\n",
       "    <tr>\n",
       "      <th>1</th>\n",
       "      <td>friday</td>\n",
       "      <td>breakfast</td>\n",
       "    </tr>\n",
       "    <tr>\n",
       "      <th>2</th>\n",
       "      <td>saturday</td>\n",
       "      <td>snacks</td>\n",
       "    </tr>\n",
       "  </tbody>\n",
       "</table>\n",
       "</div>"
      ],
      "text/plain": [
       "          0          1\n",
       "0    monday      lunch\n",
       "1    friday  breakfast\n",
       "2  saturday     snacks"
      ]
     },
     "execution_count": 56,
     "metadata": {},
     "output_type": "execute_result"
    }
   ],
   "source": [
    "split_string2"
   ]
  },
  {
   "cell_type": "markdown",
   "id": "a16e2e3a",
   "metadata": {},
   "source": [
    "## Numerical series aggregation\n"
   ]
  },
  {
   "cell_type": "code",
   "execution_count": 59,
   "id": "58483138",
   "metadata": {},
   "outputs": [],
   "source": [
    "inventory =pd.Series(range(11,70,7))"
   ]
  },
  {
   "cell_type": "code",
   "execution_count": 60,
   "id": "a1e93d6e",
   "metadata": {},
   "outputs": [
    {
     "data": {
      "text/plain": [
       "0    11\n",
       "1    18\n",
       "2    25\n",
       "3    32\n",
       "4    39\n",
       "5    46\n",
       "6    53\n",
       "7    60\n",
       "8    67\n",
       "dtype: int64"
      ]
     },
     "execution_count": 60,
     "metadata": {},
     "output_type": "execute_result"
    }
   ],
   "source": [
    "inventory"
   ]
  },
  {
   "cell_type": "code",
   "execution_count": 62,
   "id": "0d72986a",
   "metadata": {},
   "outputs": [],
   "source": [
    "inventory.index=['coffee','sugar','cocoa','cake','juice','coffee','sugar','cocoa','cake']"
   ]
  },
  {
   "cell_type": "code",
   "execution_count": 63,
   "id": "ece57d1a",
   "metadata": {},
   "outputs": [
    {
     "data": {
      "text/plain": [
       "coffee    11\n",
       "sugar     18\n",
       "cocoa     25\n",
       "cake      32\n",
       "juice     39\n",
       "coffee    46\n",
       "sugar     53\n",
       "cocoa     60\n",
       "cake      67\n",
       "dtype: int64"
      ]
     },
     "execution_count": 63,
     "metadata": {},
     "output_type": "execute_result"
    }
   ],
   "source": [
    "inventory"
   ]
  },
  {
   "cell_type": "code",
   "execution_count": 65,
   "id": "a17ccef5",
   "metadata": {},
   "outputs": [
    {
     "data": {
      "text/plain": [
       "57"
      ]
     },
     "execution_count": 65,
     "metadata": {},
     "output_type": "execute_result"
    }
   ],
   "source": [
    "inventory.loc['coffee'].sum()"
   ]
  },
  {
   "cell_type": "code",
   "execution_count": 66,
   "id": "af523fcc",
   "metadata": {},
   "outputs": [
    {
     "data": {
      "text/plain": [
       "42.5"
      ]
     },
     "execution_count": 66,
     "metadata": {},
     "output_type": "execute_result"
    }
   ],
   "source": [
    "inventory.loc['cocoa'].mean()"
   ]
  },
  {
   "cell_type": "code",
   "execution_count": 67,
   "id": "949780ee",
   "metadata": {},
   "outputs": [
    {
     "data": {
      "text/plain": [
       "67"
      ]
     },
     "execution_count": 67,
     "metadata": {},
     "output_type": "execute_result"
    }
   ],
   "source": [
    "inventory.max()"
   ]
  },
  {
   "cell_type": "code",
   "execution_count": 69,
   "id": "7bca4ef7",
   "metadata": {},
   "outputs": [
    {
     "data": {
      "text/plain": [
       "0.25    25.0\n",
       "0.50    39.0\n",
       "0.75    53.0\n",
       "dtype: float64"
      ]
     },
     "execution_count": 69,
     "metadata": {},
     "output_type": "execute_result"
    }
   ],
   "source": [
    "inventory.quantile([.25,.50,.75])"
   ]
  },
  {
   "cell_type": "code",
   "execution_count": 72,
   "id": "ffeb7187",
   "metadata": {},
   "outputs": [],
   "source": [
    "transaction_df= pd.read_csv(\"transactions.csv\")"
   ]
  },
  {
   "cell_type": "code",
   "execution_count": 73,
   "id": "90fb1c23",
   "metadata": {},
   "outputs": [
    {
     "data": {
      "text/html": [
       "<div>\n",
       "<style scoped>\n",
       "    .dataframe tbody tr th:only-of-type {\n",
       "        vertical-align: middle;\n",
       "    }\n",
       "\n",
       "    .dataframe tbody tr th {\n",
       "        vertical-align: top;\n",
       "    }\n",
       "\n",
       "    .dataframe thead th {\n",
       "        text-align: right;\n",
       "    }\n",
       "</style>\n",
       "<table border=\"1\" class=\"dataframe\">\n",
       "  <thead>\n",
       "    <tr style=\"text-align: right;\">\n",
       "      <th></th>\n",
       "      <th>date</th>\n",
       "      <th>store_nbr</th>\n",
       "      <th>transactions</th>\n",
       "    </tr>\n",
       "  </thead>\n",
       "  <tbody>\n",
       "    <tr>\n",
       "      <th>0</th>\n",
       "      <td>2013-01-01</td>\n",
       "      <td>25</td>\n",
       "      <td>770</td>\n",
       "    </tr>\n",
       "    <tr>\n",
       "      <th>1</th>\n",
       "      <td>2013-01-02</td>\n",
       "      <td>1</td>\n",
       "      <td>2111</td>\n",
       "    </tr>\n",
       "    <tr>\n",
       "      <th>2</th>\n",
       "      <td>2013-01-02</td>\n",
       "      <td>2</td>\n",
       "      <td>2358</td>\n",
       "    </tr>\n",
       "    <tr>\n",
       "      <th>3</th>\n",
       "      <td>2013-01-02</td>\n",
       "      <td>3</td>\n",
       "      <td>3487</td>\n",
       "    </tr>\n",
       "    <tr>\n",
       "      <th>4</th>\n",
       "      <td>2013-01-02</td>\n",
       "      <td>4</td>\n",
       "      <td>1922</td>\n",
       "    </tr>\n",
       "    <tr>\n",
       "      <th>...</th>\n",
       "      <td>...</td>\n",
       "      <td>...</td>\n",
       "      <td>...</td>\n",
       "    </tr>\n",
       "    <tr>\n",
       "      <th>83483</th>\n",
       "      <td>2017-08-15</td>\n",
       "      <td>50</td>\n",
       "      <td>2804</td>\n",
       "    </tr>\n",
       "    <tr>\n",
       "      <th>83484</th>\n",
       "      <td>2017-08-15</td>\n",
       "      <td>51</td>\n",
       "      <td>1573</td>\n",
       "    </tr>\n",
       "    <tr>\n",
       "      <th>83485</th>\n",
       "      <td>2017-08-15</td>\n",
       "      <td>52</td>\n",
       "      <td>2255</td>\n",
       "    </tr>\n",
       "    <tr>\n",
       "      <th>83486</th>\n",
       "      <td>2017-08-15</td>\n",
       "      <td>53</td>\n",
       "      <td>932</td>\n",
       "    </tr>\n",
       "    <tr>\n",
       "      <th>83487</th>\n",
       "      <td>2017-08-15</td>\n",
       "      <td>54</td>\n",
       "      <td>802</td>\n",
       "    </tr>\n",
       "  </tbody>\n",
       "</table>\n",
       "<p>83488 rows × 3 columns</p>\n",
       "</div>"
      ],
      "text/plain": [
       "             date  store_nbr  transactions\n",
       "0      2013-01-01         25           770\n",
       "1      2013-01-02          1          2111\n",
       "2      2013-01-02          2          2358\n",
       "3      2013-01-02          3          3487\n",
       "4      2013-01-02          4          1922\n",
       "...           ...        ...           ...\n",
       "83483  2017-08-15         50          2804\n",
       "83484  2017-08-15         51          1573\n",
       "83485  2017-08-15         52          2255\n",
       "83486  2017-08-15         53           932\n",
       "83487  2017-08-15         54           802\n",
       "\n",
       "[83488 rows x 3 columns]"
      ]
     },
     "execution_count": 73,
     "metadata": {},
     "output_type": "execute_result"
    }
   ],
   "source": [
    "transaction_df"
   ]
  },
  {
   "cell_type": "code",
   "execution_count": 74,
   "id": "b47b2e01",
   "metadata": {},
   "outputs": [],
   "source": [
    "transaction_series = pd.Series(transaction_df[\"transactions\"])"
   ]
  },
  {
   "cell_type": "code",
   "execution_count": 75,
   "id": "05984dd2",
   "metadata": {},
   "outputs": [
    {
     "data": {
      "text/plain": [
       "0         770\n",
       "1        2111\n",
       "2        2358\n",
       "3        3487\n",
       "4        1922\n",
       "         ... \n",
       "83483    2804\n",
       "83484    1573\n",
       "83485    2255\n",
       "83486     932\n",
       "83487     802\n",
       "Name: transactions, Length: 83488, dtype: int64"
      ]
     },
     "execution_count": 75,
     "metadata": {},
     "output_type": "execute_result"
    }
   ],
   "source": [
    "transaction_series"
   ]
  },
  {
   "cell_type": "code",
   "execution_count": 76,
   "id": "5aa721fe",
   "metadata": {},
   "outputs": [
    {
     "data": {
      "text/plain": [
       "0     770\n",
       "1    2111\n",
       "2    2358\n",
       "3    3487\n",
       "4    1922\n",
       "Name: transactions, dtype: int64"
      ]
     },
     "execution_count": 76,
     "metadata": {},
     "output_type": "execute_result"
    }
   ],
   "source": [
    "#top 5 rows in series\n",
    "transaction_series[:5]"
   ]
  },
  {
   "cell_type": "code",
   "execution_count": 78,
   "id": "f986d3a8",
   "metadata": {},
   "outputs": [
    {
     "data": {
      "text/plain": [
       "83488"
      ]
     },
     "execution_count": 78,
     "metadata": {},
     "output_type": "execute_result"
    }
   ],
   "source": [
    "transaction_series.count()"
   ]
  },
  {
   "cell_type": "code",
   "execution_count": 79,
   "id": "56605dec",
   "metadata": {},
   "outputs": [
    {
     "data": {
      "text/plain": [
       "1694.6021583940208"
      ]
     },
     "execution_count": 79,
     "metadata": {},
     "output_type": "execute_result"
    }
   ],
   "source": [
    "transaction_series.mean()"
   ]
  },
  {
   "cell_type": "code",
   "execution_count": 82,
   "id": "d97a7721",
   "metadata": {},
   "outputs": [
    {
     "data": {
      "text/plain": [
       "0.25    1046.0\n",
       "0.50    1393.0\n",
       "0.75    2079.0\n",
       "Name: transactions, dtype: float64"
      ]
     },
     "execution_count": 82,
     "metadata": {},
     "output_type": "execute_result"
    }
   ],
   "source": [
    "transaction_series.quantile([0.25,0.5,0.75])"
   ]
  },
  {
   "cell_type": "code",
   "execution_count": 83,
   "id": "f67c0ebc",
   "metadata": {},
   "outputs": [
    {
     "data": {
      "text/plain": [
       "1393.0"
      ]
     },
     "execution_count": 83,
     "metadata": {},
     "output_type": "execute_result"
    }
   ],
   "source": [
    "transaction_series.median()"
   ]
  },
  {
   "cell_type": "code",
   "execution_count": 84,
   "id": "82b7092c",
   "metadata": {},
   "outputs": [
    {
     "data": {
      "text/plain": [
       "5"
      ]
     },
     "execution_count": 84,
     "metadata": {},
     "output_type": "execute_result"
    }
   ],
   "source": [
    "transaction_series.min()"
   ]
  },
  {
   "cell_type": "code",
   "execution_count": 85,
   "id": "d9478a9b",
   "metadata": {},
   "outputs": [
    {
     "data": {
      "text/plain": [
       "8359"
      ]
     },
     "execution_count": 85,
     "metadata": {},
     "output_type": "execute_result"
    }
   ],
   "source": [
    "transaction_series.max()"
   ]
  },
  {
   "cell_type": "markdown",
   "id": "075763cc",
   "metadata": {},
   "source": [
    "## Categorical series aggregation"
   ]
  },
  {
   "cell_type": "code",
   "execution_count": 91,
   "id": "1d2802e0",
   "metadata": {},
   "outputs": [],
   "source": [
    "inventory_list =pd.Series(['coffee', 'sugar', 'cocoa', 'cake', 'juice', 'coffee', 'sugar', 'cocoa',\n",
    "       'cake'])"
   ]
  },
  {
   "cell_type": "code",
   "execution_count": 92,
   "id": "70f7f0cb",
   "metadata": {},
   "outputs": [
    {
     "data": {
      "text/plain": [
       "array(['coffee', 'sugar', 'cocoa', 'cake', 'juice'], dtype=object)"
      ]
     },
     "execution_count": 92,
     "metadata": {},
     "output_type": "execute_result"
    }
   ],
   "source": [
    "inventory_list.unique()"
   ]
  },
  {
   "cell_type": "code",
   "execution_count": 93,
   "id": "527e17fd",
   "metadata": {},
   "outputs": [
    {
     "data": {
      "text/plain": [
       "5"
      ]
     },
     "execution_count": 93,
     "metadata": {},
     "output_type": "execute_result"
    }
   ],
   "source": [
    "inventory_list.nunique()"
   ]
  },
  {
   "cell_type": "code",
   "execution_count": 94,
   "id": "91b0bd9e",
   "metadata": {},
   "outputs": [
    {
     "data": {
      "text/plain": [
       "coffee    2\n",
       "sugar     2\n",
       "cocoa     2\n",
       "cake      2\n",
       "juice     1\n",
       "dtype: int64"
      ]
     },
     "execution_count": 94,
     "metadata": {},
     "output_type": "execute_result"
    }
   ],
   "source": [
    "inventory_list.value_counts()"
   ]
  },
  {
   "cell_type": "code",
   "execution_count": 96,
   "id": "fb68539d",
   "metadata": {},
   "outputs": [
    {
     "data": {
      "text/plain": [
       "coffee    0.222222\n",
       "sugar     0.222222\n",
       "cocoa     0.222222\n",
       "cake      0.222222\n",
       "juice     0.111111\n",
       "dtype: float64"
      ]
     },
     "execution_count": 96,
     "metadata": {},
     "output_type": "execute_result"
    }
   ],
   "source": [
    "inventory_list.value_counts(normalize=True)"
   ]
  },
  {
   "cell_type": "code",
   "execution_count": null,
   "id": "50cd6a25",
   "metadata": {},
   "outputs": [],
   "source": []
  }
 ],
 "metadata": {
  "kernelspec": {
   "display_name": "Python 3 (ipykernel)",
   "language": "python",
   "name": "python3"
  },
  "language_info": {
   "codemirror_mode": {
    "name": "ipython",
    "version": 3
   },
   "file_extension": ".py",
   "mimetype": "text/x-python",
   "name": "python",
   "nbconvert_exporter": "python",
   "pygments_lexer": "ipython3",
   "version": "3.10.9"
  }
 },
 "nbformat": 4,
 "nbformat_minor": 5
}
