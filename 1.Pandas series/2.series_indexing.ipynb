{
 "cells": [
  {
   "cell_type": "markdown",
   "id": "58c819d3",
   "metadata": {},
   "source": [
    "# <center>Series Indexing</center>\n",
    "\n",
    "* [<span style='color:purple'>iloc[] method](#iloc[]-method)\n",
    "* [<span style='color:purple'>loc[]method](#loc[]-method)\n",
    "* [<span style='color:purple'>duplicate index values and resetting the index](#duplicate-index-values-and-resetting-the-index)\n",
    "    * [<span style='color:purple'>Assignment 2: Accessing Series Data](#Assignment-2:-Accessing-Series-Data)\n",
    "    "
   ]
  },
  {
   "cell_type": "markdown",
   "id": "4a34b731",
   "metadata": {},
   "source": [
    "The **index** let you easily access rows in a pandas series or dataframe."
   ]
  },
  {
   "cell_type": "code",
   "execution_count": 8,
   "id": "61ef46ef",
   "metadata": {},
   "outputs": [],
   "source": [
    "import numpy as np\n",
    "import pandas as pd\n",
    "sales_array =np.arange(10,100,10)"
   ]
  },
  {
   "cell_type": "code",
   "execution_count": 9,
   "id": "46053953",
   "metadata": {},
   "outputs": [
    {
     "data": {
      "text/plain": [
       "array([10, 20, 30, 40, 50, 60, 70, 80, 90])"
      ]
     },
     "execution_count": 9,
     "metadata": {},
     "output_type": "execute_result"
    }
   ],
   "source": [
    "sales_array"
   ]
  },
  {
   "cell_type": "code",
   "execution_count": 10,
   "id": "a354d852",
   "metadata": {},
   "outputs": [],
   "source": [
    "sales_series =pd.Series(sales_array,name='sales')"
   ]
  },
  {
   "cell_type": "code",
   "execution_count": 11,
   "id": "fbac2c7a",
   "metadata": {},
   "outputs": [
    {
     "data": {
      "text/plain": [
       "0    10\n",
       "1    20\n",
       "2    30\n",
       "3    40\n",
       "4    50\n",
       "5    60\n",
       "6    70\n",
       "7    80\n",
       "8    90\n",
       "Name: sales, dtype: int32"
      ]
     },
     "execution_count": 11,
     "metadata": {},
     "output_type": "execute_result"
    }
   ],
   "source": [
    "sales_series"
   ]
  },
  {
   "cell_type": "code",
   "execution_count": 13,
   "id": "756099a0",
   "metadata": {},
   "outputs": [
    {
     "data": {
      "text/plain": [
       "2    30\n",
       "3    40\n",
       "4    50\n",
       "5    60\n",
       "6    70\n",
       "Name: sales, dtype: int32"
      ]
     },
     "execution_count": 13,
     "metadata": {},
     "output_type": "execute_result"
    }
   ],
   "source": [
    "sales_series[2:7]"
   ]
  },
  {
   "cell_type": "markdown",
   "id": "cc116cc2",
   "metadata": {},
   "source": [
    "It is applicable to use custom index for accessing rows."
   ]
  },
  {
   "cell_type": "code",
   "execution_count": 15,
   "id": "abef546d",
   "metadata": {},
   "outputs": [],
   "source": [
    "products=[10,20,30,40]"
   ]
  },
  {
   "cell_type": "code",
   "execution_count": 17,
   "id": "90de1580",
   "metadata": {},
   "outputs": [],
   "source": [
    "items =['coffee','chocolate','fruits','cake']\n",
    "\n",
    "sales_series2 =pd.Series(products,index=items,name='series2')"
   ]
  },
  {
   "cell_type": "code",
   "execution_count": 18,
   "id": "757c1e40",
   "metadata": {},
   "outputs": [
    {
     "data": {
      "text/plain": [
       "coffee       10\n",
       "chocolate    20\n",
       "fruits       30\n",
       "cake         40\n",
       "Name: series2, dtype: int64"
      ]
     },
     "execution_count": 18,
     "metadata": {},
     "output_type": "execute_result"
    }
   ],
   "source": [
    "sales_series2"
   ]
  },
  {
   "cell_type": "code",
   "execution_count": 19,
   "id": "8415a1e0",
   "metadata": {},
   "outputs": [
    {
     "data": {
      "text/plain": [
       "20"
      ]
     },
     "execution_count": 19,
     "metadata": {},
     "output_type": "execute_result"
    }
   ],
   "source": [
    "sales_series2['chocolate']"
   ]
  },
  {
   "cell_type": "code",
   "execution_count": 20,
   "id": "82134daa",
   "metadata": {},
   "outputs": [
    {
     "data": {
      "text/plain": [
       "Index(['coffee', 'chocolate', 'fruits', 'cake'], dtype='object')"
      ]
     },
     "execution_count": 20,
     "metadata": {},
     "output_type": "execute_result"
    }
   ],
   "source": [
    "sales_series2.index"
   ]
  },
  {
   "cell_type": "code",
   "execution_count": 21,
   "id": "7bfc79a5",
   "metadata": {},
   "outputs": [
    {
     "data": {
      "text/plain": [
       "coffee       10\n",
       "chocolate    20\n",
       "fruits       30\n",
       "Name: series2, dtype: int64"
      ]
     },
     "execution_count": 21,
     "metadata": {},
     "output_type": "execute_result"
    }
   ],
   "source": [
    "#slicing using custom index is liitle bit different compared to slicing with \n",
    "#integer index\n",
    "\n",
    "sales_series2['coffee':'fruits']"
   ]
  },
  {
   "cell_type": "code",
   "execution_count": 22,
   "id": "b3e87a7b",
   "metadata": {},
   "outputs": [
    {
     "data": {
      "text/plain": [
       "coffee       10\n",
       "chocolate    20\n",
       "fruits       30\n",
       "cake         40\n",
       "Name: series2, dtype: int64"
      ]
     },
     "execution_count": 22,
     "metadata": {},
     "output_type": "execute_result"
    }
   ],
   "source": [
    "sales_series2"
   ]
  },
  {
   "cell_type": "markdown",
   "id": "411d6275",
   "metadata": {},
   "source": [
    "## iloc[] method"
   ]
  },
  {
   "cell_type": "markdown",
   "id": "b88cbf3d",
   "metadata": {},
   "source": [
    "df.loc[row label,column label]"
   ]
  },
  {
   "cell_type": "code",
   "execution_count": 27,
   "id": "9c607d8a",
   "metadata": {},
   "outputs": [
    {
     "data": {
      "text/plain": [
       "30"
      ]
     },
     "execution_count": 27,
     "metadata": {},
     "output_type": "execute_result"
    }
   ],
   "source": [
    "sales_series2.iloc[2]"
   ]
  },
  {
   "cell_type": "code",
   "execution_count": 26,
   "id": "959f05cb",
   "metadata": {},
   "outputs": [
    {
     "data": {
      "text/plain": [
       "chocolate    20\n",
       "fruits       30\n",
       "Name: series2, dtype: int64"
      ]
     },
     "execution_count": 26,
     "metadata": {},
     "output_type": "execute_result"
    }
   ],
   "source": [
    "sales_series2.iloc[1:3]"
   ]
  },
  {
   "cell_type": "code",
   "execution_count": 45,
   "id": "960b477b",
   "metadata": {},
   "outputs": [],
   "source": [
    "my_series =pd.Series([0,101,11,23,30],index=['week1','week2','week3','week4','week2'])"
   ]
  },
  {
   "cell_type": "code",
   "execution_count": 46,
   "id": "5c77a3c3",
   "metadata": {},
   "outputs": [
    {
     "data": {
      "text/plain": [
       "week1      0\n",
       "week2    101\n",
       "week3     11\n",
       "week4     23\n",
       "week2     30\n",
       "dtype: int64"
      ]
     },
     "execution_count": 46,
     "metadata": {},
     "output_type": "execute_result"
    }
   ],
   "source": [
    "my_series"
   ]
  },
  {
   "cell_type": "code",
   "execution_count": 47,
   "id": "413ac54e",
   "metadata": {},
   "outputs": [
    {
     "data": {
      "text/plain": [
       "101"
      ]
     },
     "execution_count": 47,
     "metadata": {},
     "output_type": "execute_result"
    }
   ],
   "source": [
    "my_series.iloc[1]"
   ]
  },
  {
   "cell_type": "markdown",
   "id": "ccfbd06c",
   "metadata": {},
   "source": [
    "## loc[] method"
   ]
  },
  {
   "cell_type": "code",
   "execution_count": 49,
   "id": "0dad5565",
   "metadata": {},
   "outputs": [
    {
     "data": {
      "text/plain": [
       "week1      0\n",
       "week2    101\n",
       "week3     11\n",
       "week4     23\n",
       "dtype: int64"
      ]
     },
     "execution_count": 49,
     "metadata": {},
     "output_type": "execute_result"
    }
   ],
   "source": [
    "my_series.loc['week1':'week4']"
   ]
  },
  {
   "cell_type": "code",
   "execution_count": 50,
   "id": "d3e162b5",
   "metadata": {},
   "outputs": [
    {
     "data": {
      "text/plain": [
       "Index(['week1', 'week2', 'week3', 'week4', 'week2'], dtype='object')"
      ]
     },
     "execution_count": 50,
     "metadata": {},
     "output_type": "execute_result"
    }
   ],
   "source": [
    "my_series.index"
   ]
  },
  {
   "cell_type": "code",
   "execution_count": 51,
   "id": "3eb12dc4",
   "metadata": {},
   "outputs": [
    {
     "data": {
      "text/plain": [
       "0      0\n",
       "1    101\n",
       "2     11\n",
       "3     23\n",
       "4     30\n",
       "dtype: int64"
      ]
     },
     "execution_count": 51,
     "metadata": {},
     "output_type": "execute_result"
    }
   ],
   "source": [
    "my_series.reset_index(drop=True)"
   ]
  },
  {
   "cell_type": "markdown",
   "id": "62d9eead",
   "metadata": {},
   "source": [
    "## duplicate index values and resetting the index"
   ]
  },
  {
   "cell_type": "code",
   "execution_count": 52,
   "id": "da770b7f",
   "metadata": {},
   "outputs": [
    {
     "data": {
      "text/plain": [
       "week1      0\n",
       "week2    101\n",
       "week3     11\n",
       "week4     23\n",
       "week2     30\n",
       "dtype: int64"
      ]
     },
     "execution_count": 52,
     "metadata": {},
     "output_type": "execute_result"
    }
   ],
   "source": [
    "my_series"
   ]
  },
  {
   "cell_type": "code",
   "execution_count": 54,
   "id": "db4b6b01",
   "metadata": {},
   "outputs": [
    {
     "data": {
      "text/html": [
       "<div>\n",
       "<style scoped>\n",
       "    .dataframe tbody tr th:only-of-type {\n",
       "        vertical-align: middle;\n",
       "    }\n",
       "\n",
       "    .dataframe tbody tr th {\n",
       "        vertical-align: top;\n",
       "    }\n",
       "\n",
       "    .dataframe thead th {\n",
       "        text-align: right;\n",
       "    }\n",
       "</style>\n",
       "<table border=\"1\" class=\"dataframe\">\n",
       "  <thead>\n",
       "    <tr style=\"text-align: right;\">\n",
       "      <th></th>\n",
       "      <th>index</th>\n",
       "      <th>0</th>\n",
       "    </tr>\n",
       "  </thead>\n",
       "  <tbody>\n",
       "    <tr>\n",
       "      <th>0</th>\n",
       "      <td>week1</td>\n",
       "      <td>0</td>\n",
       "    </tr>\n",
       "    <tr>\n",
       "      <th>1</th>\n",
       "      <td>week2</td>\n",
       "      <td>101</td>\n",
       "    </tr>\n",
       "    <tr>\n",
       "      <th>2</th>\n",
       "      <td>week3</td>\n",
       "      <td>11</td>\n",
       "    </tr>\n",
       "    <tr>\n",
       "      <th>3</th>\n",
       "      <td>week4</td>\n",
       "      <td>23</td>\n",
       "    </tr>\n",
       "    <tr>\n",
       "      <th>4</th>\n",
       "      <td>week2</td>\n",
       "      <td>30</td>\n",
       "    </tr>\n",
       "  </tbody>\n",
       "</table>\n",
       "</div>"
      ],
      "text/plain": [
       "   index    0\n",
       "0  week1    0\n",
       "1  week2  101\n",
       "2  week3   11\n",
       "3  week4   23\n",
       "4  week2   30"
      ]
     },
     "execution_count": 54,
     "metadata": {},
     "output_type": "execute_result"
    }
   ],
   "source": [
    "my_series.reset_index()#by using this method reset the index with a integer"
   ]
  },
  {
   "cell_type": "code",
   "execution_count": 56,
   "id": "57eef92c",
   "metadata": {},
   "outputs": [
    {
     "data": {
      "text/plain": [
       "0      0\n",
       "1    101\n",
       "2     11\n",
       "3     23\n",
       "4     30\n",
       "dtype: int64"
      ]
     },
     "execution_count": 56,
     "metadata": {},
     "output_type": "execute_result"
    }
   ],
   "source": [
    "my_series.reset_index(drop=True)"
   ]
  },
  {
   "cell_type": "code",
   "execution_count": 57,
   "id": "1dc4fdb0",
   "metadata": {},
   "outputs": [
    {
     "data": {
      "text/plain": [
       "11"
      ]
     },
     "execution_count": 57,
     "metadata": {},
     "output_type": "execute_result"
    }
   ],
   "source": [
    "my_series.iloc[2]"
   ]
  },
  {
   "cell_type": "code",
   "execution_count": null,
   "id": "a411b7fa",
   "metadata": {},
   "outputs": [],
   "source": []
  }
 ],
 "metadata": {
  "kernelspec": {
   "display_name": "Python 3 (ipykernel)",
   "language": "python",
   "name": "python3"
  },
  "language_info": {
   "codemirror_mode": {
    "name": "ipython",
    "version": 3
   },
   "file_extension": ".py",
   "mimetype": "text/x-python",
   "name": "python",
   "nbconvert_exporter": "python",
   "pygments_lexer": "ipython3",
   "version": "3.10.9"
  }
 },
 "nbformat": 4,
 "nbformat_minor": 5
}
