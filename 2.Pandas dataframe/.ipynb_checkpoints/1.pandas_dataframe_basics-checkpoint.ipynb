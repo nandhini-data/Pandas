{
 "cells": [
  {
   "cell_type": "markdown",
   "id": "31e98bad",
   "metadata": {},
   "source": [
    "# <center>Pandas Dataframe Basics</center>\n"
   ]
  },
  {
   "cell_type": "markdown",
   "id": "183d81f8",
   "metadata": {},
   "source": [
    "Pandas Dataframe is equivalent to excel or sql,which is used to store and analyze the data.\n",
    "* Each column of data in a dataframe is a pandas series that share the same row index.\n",
    "* The column header works as a column index that contain the series names."
   ]
  },
  {
   "cell_type": "markdown",
   "id": "6702e69e",
   "metadata": {},
   "source": [
    "DataFrame have these key properties:\n",
    "* shape\n",
    "* index\n",
    "* columns\n",
    "* axes\n",
    "* dtypes"
   ]
  },
  {
   "cell_type": "code",
   "execution_count": 2,
   "id": "175e8029",
   "metadata": {},
   "outputs": [],
   "source": [
    "import pandas as pd\n",
    "import numpy as np"
   ]
  },
  {
   "cell_type": "code",
   "execution_count": 3,
   "id": "ef58a630",
   "metadata": {},
   "outputs": [],
   "source": [
    "df_oil =pd.read_csv(\"oil.csv\")"
   ]
  },
  {
   "cell_type": "code",
   "execution_count": 4,
   "id": "95ccac44",
   "metadata": {},
   "outputs": [
    {
     "data": {
      "text/html": [
       "<div>\n",
       "<style scoped>\n",
       "    .dataframe tbody tr th:only-of-type {\n",
       "        vertical-align: middle;\n",
       "    }\n",
       "\n",
       "    .dataframe tbody tr th {\n",
       "        vertical-align: top;\n",
       "    }\n",
       "\n",
       "    .dataframe thead th {\n",
       "        text-align: right;\n",
       "    }\n",
       "</style>\n",
       "<table border=\"1\" class=\"dataframe\">\n",
       "  <thead>\n",
       "    <tr style=\"text-align: right;\">\n",
       "      <th></th>\n",
       "      <th>date</th>\n",
       "      <th>dcoilwtico</th>\n",
       "    </tr>\n",
       "  </thead>\n",
       "  <tbody>\n",
       "    <tr>\n",
       "      <th>0</th>\n",
       "      <td>2013-01-01</td>\n",
       "      <td>NaN</td>\n",
       "    </tr>\n",
       "    <tr>\n",
       "      <th>1</th>\n",
       "      <td>2013-01-02</td>\n",
       "      <td>93.14</td>\n",
       "    </tr>\n",
       "    <tr>\n",
       "      <th>2</th>\n",
       "      <td>2013-01-03</td>\n",
       "      <td>92.97</td>\n",
       "    </tr>\n",
       "    <tr>\n",
       "      <th>3</th>\n",
       "      <td>2013-01-04</td>\n",
       "      <td>93.12</td>\n",
       "    </tr>\n",
       "    <tr>\n",
       "      <th>4</th>\n",
       "      <td>2013-01-07</td>\n",
       "      <td>93.20</td>\n",
       "    </tr>\n",
       "    <tr>\n",
       "      <th>...</th>\n",
       "      <td>...</td>\n",
       "      <td>...</td>\n",
       "    </tr>\n",
       "    <tr>\n",
       "      <th>1213</th>\n",
       "      <td>2017-08-25</td>\n",
       "      <td>47.65</td>\n",
       "    </tr>\n",
       "    <tr>\n",
       "      <th>1214</th>\n",
       "      <td>2017-08-28</td>\n",
       "      <td>46.40</td>\n",
       "    </tr>\n",
       "    <tr>\n",
       "      <th>1215</th>\n",
       "      <td>2017-08-29</td>\n",
       "      <td>46.46</td>\n",
       "    </tr>\n",
       "    <tr>\n",
       "      <th>1216</th>\n",
       "      <td>2017-08-30</td>\n",
       "      <td>45.96</td>\n",
       "    </tr>\n",
       "    <tr>\n",
       "      <th>1217</th>\n",
       "      <td>2017-08-31</td>\n",
       "      <td>47.26</td>\n",
       "    </tr>\n",
       "  </tbody>\n",
       "</table>\n",
       "<p>1218 rows × 2 columns</p>\n",
       "</div>"
      ],
      "text/plain": [
       "            date  dcoilwtico\n",
       "0     2013-01-01         NaN\n",
       "1     2013-01-02       93.14\n",
       "2     2013-01-03       92.97\n",
       "3     2013-01-04       93.12\n",
       "4     2013-01-07       93.20\n",
       "...          ...         ...\n",
       "1213  2017-08-25       47.65\n",
       "1214  2017-08-28       46.40\n",
       "1215  2017-08-29       46.46\n",
       "1216  2017-08-30       45.96\n",
       "1217  2017-08-31       47.26\n",
       "\n",
       "[1218 rows x 2 columns]"
      ]
     },
     "execution_count": 4,
     "metadata": {},
     "output_type": "execute_result"
    }
   ],
   "source": [
    "df_oil"
   ]
  },
  {
   "cell_type": "code",
   "execution_count": 5,
   "id": "0d9280c1",
   "metadata": {},
   "outputs": [
    {
     "data": {
      "text/plain": [
       "(1218, 2)"
      ]
     },
     "execution_count": 5,
     "metadata": {},
     "output_type": "execute_result"
    }
   ],
   "source": [
    "df_oil.shape"
   ]
  },
  {
   "cell_type": "code",
   "execution_count": 6,
   "id": "8578a160",
   "metadata": {},
   "outputs": [
    {
     "data": {
      "text/plain": [
       "RangeIndex(start=0, stop=1218, step=1)"
      ]
     },
     "execution_count": 6,
     "metadata": {},
     "output_type": "execute_result"
    }
   ],
   "source": [
    "df_oil.index"
   ]
  },
  {
   "cell_type": "code",
   "execution_count": 7,
   "id": "498c1aa0",
   "metadata": {},
   "outputs": [
    {
     "data": {
      "text/plain": [
       "Index(['date', 'dcoilwtico'], dtype='object')"
      ]
     },
     "execution_count": 7,
     "metadata": {},
     "output_type": "execute_result"
    }
   ],
   "source": [
    "df_oil.columns"
   ]
  },
  {
   "cell_type": "code",
   "execution_count": 8,
   "id": "2d42bf82",
   "metadata": {},
   "outputs": [
    {
     "data": {
      "text/plain": [
       "[RangeIndex(start=0, stop=1218, step=1),\n",
       " Index(['date', 'dcoilwtico'], dtype='object')]"
      ]
     },
     "execution_count": 8,
     "metadata": {},
     "output_type": "execute_result"
    }
   ],
   "source": [
    "df_oil.axes"
   ]
  },
  {
   "cell_type": "code",
   "execution_count": 10,
   "id": "cd8825ab",
   "metadata": {},
   "outputs": [
    {
     "data": {
      "text/plain": [
       "date           object\n",
       "dcoilwtico    float64\n",
       "dtype: object"
      ]
     },
     "execution_count": 10,
     "metadata": {},
     "output_type": "execute_result"
    }
   ],
   "source": [
    "df_oil.dtypes"
   ]
  },
  {
   "cell_type": "code",
   "execution_count": null,
   "id": "3da14eb2",
   "metadata": {},
   "outputs": [],
   "source": []
  }
 ],
 "metadata": {
  "kernelspec": {
   "display_name": "Python 3 (ipykernel)",
   "language": "python",
   "name": "python3"
  },
  "language_info": {
   "codemirror_mode": {
    "name": "ipython",
    "version": 3
   },
   "file_extension": ".py",
   "mimetype": "text/x-python",
   "name": "python",
   "nbconvert_exporter": "python",
   "pygments_lexer": "ipython3",
   "version": "3.10.9"
  }
 },
 "nbformat": 4,
 "nbformat_minor": 5
}
